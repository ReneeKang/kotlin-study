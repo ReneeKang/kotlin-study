{
 "cells": [
  {
   "cell_type": "code",
   "execution_count": 4,
   "metadata": {
    "collapsed": true
   },
   "outputs": [],
   "source": [
    "/*\n",
    "비교 연산자\n",
    "이항연산자로 두 항의 크거나 작거나 또는 같음을 비굫나다.\n",
    "\n",
    "ex)\n",
    "a > b   a.compareTo(b) > 0\n",
    "a < b   a.compareTo(b) < 0\n",
    "a == b  a?.equals(b) ?: (b === null)\n",
    "a != b  !(a?.equals(b) ?: (b === null))\n",
    "*/\n"
   ]
  },
  {
   "cell_type": "code",
   "execution_count": 5,
   "outputs": [
    {
     "name": "stdout",
     "output_type": "stream",
     "text": [
      "false\r\n",
      "class kotlin.Boolean\r\n"
     ]
    }
   ],
   "source": [
    "//불리언 클래스 Boolean 클래스\n",
    "var humid = 100\n",
    "var jacket = 200\n",
    "val eq = humid == jacket\n",
    "println(eq)\n",
    "println(eq.javaClass.kotlin)"
   ],
   "metadata": {
    "collapsed": false
   }
  },
  {
   "cell_type": "markdown",
   "source": [],
   "metadata": {
    "collapsed": false
   }
  },
  {
   "cell_type": "code",
   "execution_count": null,
   "outputs": [],
   "source": [
    "/*\n",
    "비교연산을 처리하는 compareTo 메서드\n",
    "\n",
    "compareTo 메서드의 결과는 기본으로 0, 음수, 양수 이다.\n",
    "이를 다시 0과 비교연산을 사용해서 처리해야 비교연산과 동일한 결과가 나온다.\n",
    "*/\n"
   ],
   "metadata": {
    "collapsed": false
   }
  },
  {
   "cell_type": "code",
   "execution_count": null,
   "outputs": [],
   "source": [
    "/*\n",
    "포함연산자 처리\n",
    "\n",
    "특정 범위에 속한 값에 포함 여부를 확인할 때 이 연산자를 사용한다.\n",
    "포함관계도 퐇마 여부를 결정해서 참과 거짓의 결과를 제공한다.\n",
    "in      a in b      b.contains(a)\n",
    "!in     a !in b     !b.contains(a)\n",
    "*/\n"
   ],
   "metadata": {
    "collapsed": false
   }
  },
  {
   "cell_type": "code",
   "execution_count": 9,
   "outputs": [
    {
     "name": "stdout",
     "output_type": "stream",
     "text": [
      "true\r\n",
      "true\r\n",
      "false\r\n",
      "false\r\n"
     ]
    }
   ],
   "source": [
    "/*\n",
    "any, all, none\n",
    "여러 원소를 가진 배열이나 리스트 등에 특정 원소의 값이 있는지 확인해서 논리값으로 처리하는 메서드\n",
    "- 모든 것이 참인 경우 all 메서드\n",
    "- 모든 것이 거짓인 경우 none 메서드\n",
    "- 하나라도 참인 경우 any 메서드\n",
    "*/\n",
    "var height = 46\n",
    "println(height in 1..53)\n",
    "\n",
    "val list = listOf(1,2,null)\n",
    "\n",
    "println(list.any({it==null}))\n",
    "println(list.all({it==null}))\n",
    "println(list.none({it==null}))"
   ],
   "metadata": {
    "collapsed": false
   }
  },
  {
   "cell_type": "code",
   "execution_count": null,
   "outputs": [],
   "source": [
    "/*\n",
    "논리연산자\n",
    "두 항이 모두 참일 때만 참인 논리곱 연산과 두 항이 모두 거짓일 때만 거짓인 논리합 연산이 있다.\n",
    "\n",
    "동등성\n",
    "비교할 때 값이 동일한 경우, 실제 객체 레퍼런스가 동일한 경우\n",
    "- 구조적 동등성: 동일한 값을 비교(==)\n",
    "- 참조적 동등성: 객체 참조로 비교(===)\n",
    "\n",
    "값을 비교하는 동등성 연산은 ==, equals\n",
    "객체 참조를 비교하는 연산은 ===\n",
    "*/"
   ],
   "metadata": {
    "collapsed": false
   }
  },
  {
   "cell_type": "code",
   "execution_count": 19,
   "outputs": [
    {
     "name": "stdout",
     "output_type": "stream",
     "text": [
      "true\r\n",
      "true\r\n",
      "true\r\n",
      "true\r\n",
      "\r\n",
      "true\r\n",
      "true\r\n",
      "false\r\n",
      "false\r\n"
     ]
    }
   ],
   "source": [
    "/*\n",
    "* 널러블 연산 ( ?. , ?: )\n",
    "?.  : 안전호출연산자. null이 아닐 때만 호출\n",
    "?:  : 엘비스연산자. 변수가 null일때 기본값을 제공하는 용도로 사용한다.\n",
    "*/\n",
    "\n",
    "val a = 100\n",
    "val b = 100\n",
    "val c = null\n",
    "\n",
    "println(a==b)\n",
    "println(a.equals(b))\n",
    "println(a?.equals(b) ?: (b===null))\n",
    "println(a===b)\n",
    "println()\n",
    "println(c == null)\n",
    "println(c === null)\n",
    "println(a?.equals(c))\n",
    "println(a?.equals(c) ?: (c === null))\n"
   ],
   "metadata": {
    "collapsed": false
   }
  },
  {
   "cell_type": "code",
   "execution_count": null,
   "outputs": [],
   "source": [
    "/*\n",
    "* 숫자나 문자열은 항상 값과 레퍼런스가 동일해야 하지만, 성능을 위해 필요할 때마다 여러개를 만들어 처리할 수 있다.\n",
    "그래서 값이 같지만 레퍼런스는 같지 않을 수 있으므로 값만 비교하는 것을 권장한다.\n",
    "==, equals\n",
    "* */\n",
    "\n",
    "\"\"\"\n",
    "코틀린\n",
    "값비교 ==\n",
    "참조비교 ===\n",
    "\n",
    "자바\n",
    "값비교 equals\n",
    "참조비교 ==\n",
    "\n",
    "파이썬\n",
    "값비교 ==\n",
    "참조비교 is\n",
    "\"\"\""
   ],
   "metadata": {
    "collapsed": false
   }
  },
  {
   "cell_type": "code",
   "execution_count": 22,
   "outputs": [
    {
     "name": "stdout",
     "output_type": "stream",
     "text": [
      "true\r\n",
      "true\r\n"
     ]
    }
   ],
   "source": [
    "val d = 0.0\n",
    "val e = -0.0\n",
    "\n",
    "println(d == e)\n",
    "println(d === e)"
   ],
   "metadata": {
    "collapsed": false
   }
  },
  {
   "cell_type": "code",
   "execution_count": 26,
   "outputs": [
    {
     "name": "stdout",
     "output_type": "stream",
     "text": [
      "30\r\n",
      "true\r\n",
      "50\r\n",
      "true\r\n"
     ]
    }
   ],
   "source": [
    "\"\"\"\n",
    "함수도 일급 객체\n",
    "\n",
    "함수도 정의되면 하나의 객체가 만들어진다. 함수를 구분하는 자료형은 파라미터타입과 반환타입.\n",
    "함수객체도 참조적 동등성 비교 가능\n",
    "- 함수 참조 : 함수 정의 후 메모리에 로딩된 함수의 주소를 가져오는 리플렉션 기능\n",
    "- hashCode() : 레퍼런스를 정수로 변환해주는 메서드\n",
    "\"\"\"\n",
    "\n",
    "fun add(x:Int, y:Int) = x+y\n",
    "val addVal = ::add\n",
    "\n",
    "println(add(10, 20))\n",
    "println((::add).hashCode() == addVal.hashCode()) //참조에 대한 해시비교\n",
    "println(add(30, 20))\n",
    "println((::add).hashCode() == addVal.hashCode()) //참조에 대한 해시비교\n"
   ],
   "metadata": {
    "collapsed": false
   }
  },
  {
   "cell_type": "code",
   "execution_count": null,
   "outputs": [],
   "source": [],
   "metadata": {
    "collapsed": false
   }
  },
  {
   "cell_type": "code",
   "execution_count": null,
   "outputs": [],
   "source": [],
   "metadata": {
    "collapsed": false
   }
  },
  {
   "cell_type": "code",
   "execution_count": null,
   "outputs": [],
   "source": [],
   "metadata": {
    "collapsed": false
   }
  }
 ],
 "metadata": {
  "kernelspec": {
   "display_name": "Kotlin",
   "language": "kotlin",
   "name": "kotlin"
  },
  "language_info": {
   "name": "kotlin",
   "version": "1.8.0-dev-3517",
   "mimetype": "text/x-kotlin",
   "file_extension": ".kt",
   "pygments_lexer": "kotlin",
   "codemirror_mode": "text/x-kotlin",
   "nbconvert_exporter": ""
  }
 },
 "nbformat": 4,
 "nbformat_minor": 0
}
