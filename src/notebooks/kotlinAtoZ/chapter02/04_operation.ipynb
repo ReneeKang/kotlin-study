{
 "cells": [
  {
   "cell_type": "code",
   "execution_count": null,
   "metadata": {
    "collapsed": true
   },
   "outputs": [],
   "source": [
    "\"\"\"\n",
    "코틀린도 연산자를 사용하는 계산처리를 기본으로 제공한다.\n",
    "\n",
    "표현식       내부적 실행\n",
    "a+b         a.plus(b)\n",
    "a-b         a.minus(b)\n",
    "a*b         a.times(b)\n",
    "a/b         a.div(b)\n",
    "a%b         a.rem(b), a.mod(b)\n",
    "\n",
    "할당복합연산자:\n",
    "동일한 변수로 사칙연산을 실행하고 동일한 변수에 할당할 경우 축약형인 할당복합연산자를 사용한다\n",
    "\n",
    "a += b     a.plusAssign(b)\n",
    "a -= b     a.minusAssign(b)\n",
    "a *= b     a.timesAssign(b)\n",
    "a /= b     a.divAssign(b)\n",
    "a %= b     a.modAssign(b)\n",
    "\"\"\""
   ]
  },
  {
   "cell_type": "code",
   "execution_count": 2,
   "outputs": [
    {
     "name": "stdout",
     "output_type": "stream",
     "text": [
      "온고 지신.  - 공자온고 지신.  - 공자\r\n"
     ]
    }
   ],
   "source": [
    "\"\"\"\n",
    "연산자를 추가로 사용하는 경우\n",
    "\n",
    "사용자가 직접 클래스를 정의할 때 연산자 메서드를 추가로 정의하면\n",
    "이 클래스의 객체 간의 연산자로 처리할 수 있다.\n",
    "문자열 클래스에서 연산자를 사용해서 처리하는 방법을 알아보고 추후에 사용자 클래스에 연산자를 재정의하는 방법을 알아본다.\n",
    "\n",
    "연산자 오버로딩(operator overloading): 문자열 등에도 덧셈연산자를 사용할 수 있다. 이 때 덧셈연산자는 문자열을 결합하는 용도로 사용한다.\n",
    "                                    사용자 정의 클래스를 연산자의 메서드 이름으로 재정의하면 연산자 기호를 사용할 수 있다.\n",
    "\"\"\"\n",
    "\n",
    "val start = \"온고 \"\n",
    "val middle = \"지신. \"\n",
    "val end = \" - 공자\"\n",
    "\n",
    "val result = start + middle + end\n",
    "println(result)"
   ],
   "metadata": {
    "collapsed": false
   }
  },
  {
   "cell_type": "code",
   "execution_count": 5,
   "outputs": [
    {
     "name": "stdout",
     "output_type": "stream",
     "text": [
      "[one, two, three, four, five]\r\n",
      "[one, two]\r\n",
      "[one, two, three, four]\r\n"
     ]
    }
   ],
   "source": [
    "//리스트에 재정의 된 덧셈연산자와 뺄셈연산자\n",
    "//리스트 객체를 생성해서 변수에 저장하고 문자열과 덧셈을 하면 리스트에 원소가 새로 추가된다.\n",
    "\n",
    "//리스트를 만드는 함수(listOf) : 동일한 자료형의 원소로 리스트 객체를 만드는 함수이다.\n",
    "val numbers = listOf(\"one\", \"two\", \"three\", \"four\")\n",
    "val plusList = numbers + \"five\"\n",
    "val minusList = numbers - listOf(\"three\", \"four\")\n",
    "\n",
    "println(plusList)\n",
    "println(minusList)\n",
    "println(numbers)"
   ],
   "metadata": {
    "collapsed": false
   }
  },
  {
   "cell_type": "code",
   "execution_count": null,
   "outputs": [],
   "source": [],
   "metadata": {
    "collapsed": false
   }
  },
  {
   "cell_type": "code",
   "execution_count": 6,
   "outputs": [
    {
     "name": "stdout",
     "output_type": "stream",
     "text": [
      "30\r\n",
      "11110\r\n"
     ]
    }
   ],
   "source": [
    "/*\n",
    "컴퓨터는 이진수가 기본이라서 내부에서는 이진수 연산을 처리한다.\n",
    "그래서 프로그램 언어마다 이진수 계산하는 연산을 지원한다.\n",
    "보통 이진연산은 정수일 경우만 지원한다.\n",
    "\n",
    "이진연산은 연산자를 제공하지 않고 메서드로만 처리한다.\n",
    "- sh\n",
    "- shr\n",
    "- ushr\n",
    "- and\n",
    "- or\n",
    "- xor\n",
    "- inv\n",
    "*/\n",
    "\n",
    "//문자열 출력 메서드 toString : 인자로 진법을 표시하면 해당하는 진법에 맞게 출력\n",
    "val bit1: Int = 17\n",
    "val bit2: Int = 0b1111\n",
    "\n",
    "println((bit1 xor bit2))\n",
    "println((bit1 xor bit2).toString(2))"
   ],
   "metadata": {
    "collapsed": false
   }
  },
  {
   "cell_type": "code",
   "execution_count": 18,
   "outputs": [
    {
     "name": "stdout",
     "output_type": "stream",
     "text": [
      " bit1 = 10001 bit2 = 1111\r\n"
     ]
    }
   ],
   "source": [
    "//모든 이진연산을 처리하고 문자열로 2진수를 출력하려면 toString(2)를 사용한다.\n",
    "val bit1: Int = 17\n",
    "val bit2: Int = 0b1111\n",
    "\n",
    "println(\" bit1 = ${bit1.toString(2)} bit2 = ${bit2.toString(2)}\")"
   ],
   "metadata": {
    "collapsed": false
   }
  },
  {
   "cell_type": "code",
   "execution_count": 19,
   "outputs": [
    {
     "name": "stdout",
     "output_type": "stream",
     "text": [
      " bit1 = 11 bit2 = 1000100010001\r\n"
     ]
    }
   ],
   "source": [
    "val bit1: Long = 17\n",
    "val bit2: Long = 0x1111\n",
    "\n",
    "println(\" bit1 = ${bit1.toString(16)} bit2 = ${bit2.toString(2)}\")"
   ],
   "metadata": {
    "collapsed": false
   }
  },
  {
   "cell_type": "code",
   "execution_count": null,
   "outputs": [],
   "source": [],
   "metadata": {
    "collapsed": false
   }
  }
 ],
 "metadata": {
  "kernelspec": {
   "display_name": "Kotlin",
   "language": "kotlin",
   "name": "kotlin"
  },
  "language_info": {
   "name": "kotlin",
   "version": "1.8.0-dev-3517",
   "mimetype": "text/x-kotlin",
   "file_extension": ".kt",
   "pygments_lexer": "kotlin",
   "codemirror_mode": "text/x-kotlin",
   "nbconvert_exporter": ""
  }
 },
 "nbformat": 4,
 "nbformat_minor": 0
}
