{
 "cells": [
  {
   "cell_type": "code",
   "execution_count": null,
   "metadata": {
    "collapsed": true
   },
   "outputs": [],
   "source": [
    "/*\n",
    "식별자\n",
    "\n",
    "코틀린에서는 이름을 정의해서 사용하는 것으로 변수, 상수, 함수, 클래스, 인터페이스, object 등이 있다.\n",
    "패키지, 클래스, 함수, 인터페이스, object 내부에서도 정의할 수 있다.\n",
    "*/"
   ]
  },
  {
   "cell_type": "code",
   "execution_count": 2,
   "outputs": [
    {
     "name": "stdout",
     "output_type": "stream",
     "text": [
      "3.141592653589793\r\n",
      "-1.0\r\n",
      "1.0\r\n"
     ]
    }
   ],
   "source": [
    "/*\n",
    "패키지\n",
    "코틀린은 패키지 단위로 파일에 작성된 코드를 관리한다.\n",
    "\n",
    "패키지를 식별자로 사용\n",
    "\n",
    "패키지가 다르지만 이름이 같을 경우 import하면 이름의 충돌이 발생할 수 있다.\n",
    "이 때 as 다음에 별칭을 지정하여 충돌을 막을 수 있다.\n",
    "*/\n",
    "\n",
    "import kotlin.math.PI as circleRatio\n",
    "import kotlin.math.cos as cosine\n",
    "\n",
    "println(circleRatio)\n",
    "println(cosine(circleRatio))\n",
    "println(cosine(2 * circleRatio))"
   ],
   "metadata": {
    "collapsed": false
   }
  },
  {
   "cell_type": "code",
   "execution_count": null,
   "outputs": [],
   "source": [
    "\"\"\"\n",
    "\n",
    "식별자 구분하기\n",
    "\n",
    "식별자란 변수명, 함수명, 객체명, 인터페이스명, 클래스명 등을 작성할 때\n",
    "이름의 충돌을 막고 항상 동일하게 조회해서 접근할 수 있는 이름을 말한다.\n",
    "프로그램 언어에서는 보통 예약어를 만들어두고 이 예약어를 식별자로 쓰지 못하게 하지만,\n",
    "코틀린에서는 일부 예약어를 식별자로 사용할 수 있다.\n",
    "\"\"\""
   ],
   "metadata": {
    "collapsed": false
   }
  },
  {
   "cell_type": "code",
   "execution_count": null,
   "outputs": [],
   "source": [
    "\"\"\"\n",
    "식별자 처리 규칙\n",
    "- 패키지 내에 지정된 클래스, 인터페이스, 함수, 속성은\n",
    "패키지 이름 전체와 클래스, 인터페이스, 함수, 속성 이름이 연결되어야 하나의 식별자로 인식한다.\n",
    "- 클래스 내의 함수와 속성은 반드시 객체를 만들어 함수와 속성에 접근해야 처리할 수 있다.\n",
    "- 함수 내에 정의된 변수는 변수 이름이 식별자이다.\n",
    "- 변수에 정의된 자료형인 클래스, 인터페이스, 함수 타입 등은 자신이 속한 패키지 이름과 자신의 이름까지가 하나의 식별자이다.\n",
    "\"\"\"\n",
    "fun main() {\n",
    "    val IntArray = intArrayOf(1,2,3,4)\n",
    "    val main = \" main string \"\n",
    "    val println : IntArray = IntArray\n",
    "    val main_ = {println(\"Hello \")}\n",
    "\n",
    "    println(IntArray.contentToString())\n",
    "    println(main)\n",
    "    println(println.contentToString())\n",
    "    println(::main)\n",
    "    println(main_)\n",
    "}\n",
    "\n",
    "main()"
   ],
   "metadata": {
    "collapsed": false
   }
  },
  {
   "cell_type": "code",
   "execution_count": null,
   "outputs": [],
   "source": [],
   "metadata": {
    "collapsed": false
   }
  },
  {
   "cell_type": "code",
   "execution_count": null,
   "outputs": [],
   "source": [
    "//표준 입출력\n",
    "//입력 함수 :  readLine\n",
    "//출력 함수 : print, println\n",
    "\n",
    "\n",
    "//보통 표준 입력은 readLine 함수 실행할 때 반드시 값이 들어오므로 !!를 사용해서\n",
    "//널이 아닌것을 표현한다.\n",
    "\n",
    "/*\n",
    "val a = readLine()!!.toInt()\n",
    "val b = readLine()!!.toInt()\n",
    "\n",
    "print(\"a = $a\"); print(\"b = $b\")\n",
    "print(\"\\n\")\n",
    "\n",
    "println(\" sum : ${a + b}\")\n",
    " */"
   ],
   "metadata": {
    "collapsed": false
   }
  },
  {
   "cell_type": "code",
   "execution_count": null,
   "outputs": [],
   "source": [],
   "metadata": {
    "collapsed": false
   }
  },
  {
   "cell_type": "code",
   "execution_count": null,
   "outputs": [],
   "source": [],
   "metadata": {
    "collapsed": false
   }
  },
  {
   "cell_type": "markdown",
   "source": [],
   "metadata": {
    "collapsed": false
   }
  }
 ],
 "metadata": {
  "kernelspec": {
   "display_name": "Kotlin",
   "language": "kotlin",
   "name": "kotlin"
  },
  "language_info": {
   "name": "kotlin",
   "version": "1.8.0-dev-3517",
   "mimetype": "text/x-kotlin",
   "file_extension": ".kt",
   "pygments_lexer": "kotlin",
   "codemirror_mode": "text/x-kotlin",
   "nbconvert_exporter": ""
  }
 },
 "nbformat": 4,
 "nbformat_minor": 0
}
