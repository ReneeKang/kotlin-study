{
 "cells": [
  {
   "cell_type": "code",
   "execution_count": 8,
   "metadata": {
    "collapsed": true
   },
   "outputs": [
    {
     "data": {
      "text/plain": "300"
     },
     "execution_count": 8,
     "metadata": {},
     "output_type": "execute_result"
    }
   ],
   "source": [
    "/*\n",
    " 익명함수와 람다표현식\n",
    "\n",
    " 코틀린에서는 함수 정의 없이 바로 실행하는 함수를 만드는 방법 2가지\n",
    " 1. 익명함수\n",
    " 2. 람다표현식\n",
    "\n",
    " 익명함수\n",
    " 함수 정의와 동일하지만 함수의 이름을 가지지 않는다. 대신 일회성으로 처리하는 용도로 사용한다.\n",
    "*/\n",
    "\n",
    "\n",
    "//익명함수를 이름으로 호출하려면 1. 변수에 할당 2. 변수 이름으로 조회해서 실행\n",
    "\n",
    "(fun(매개변수1:Int, 매개변수2:Int) : Int {\n",
    "    return 매개변수1 + 매개변수2\n",
    "})(100,200)"
   ]
  },
  {
   "cell_type": "code",
   "execution_count": 3,
   "outputs": [
    {
     "name": "stdout",
     "output_type": "stream",
     "text": [
      "300\n"
     ]
    }
   ],
   "source": [
    "println((fun(매개변수1:Int, 매개변수2:Int) : Int {  //익명함수를 즉시 실행\n",
    "    return 매개변수1 + 매개변수2\n",
    "})(100,200))"
   ],
   "metadata": {
    "collapsed": false
   }
  },
  {
   "cell_type": "code",
   "execution_count": 4,
   "outputs": [
    {
     "name": "stdout",
     "output_type": "stream",
     "text": [
      "500\n"
     ]
    }
   ],
   "source": [
    "val 덧셈 = fun (매개변수1:Int, 매개변수2:Int) : Int { //익명함수를 변수에 할당\n",
    "    return 매개변수1 + 매개변수2\n",
    "}\n",
    "val res1 = 덧셈(300, 200)                        //익명함수를 실행\n",
    "println(res1)"
   ],
   "metadata": {
    "collapsed": false
   }
  },
  {
   "cell_type": "code",
   "execution_count": 7,
   "outputs": [
    {
     "name": "stdout",
     "output_type": "stream",
     "text": [
      "700\n"
     ]
    }
   ],
   "source": [
    "val res2 = (fun (매개변수1 : Int, 매개변수2 : Int) : Int {    //즉시실행\n",
    "    return 매개변수1 + 매개변수2\n",
    "})(500, 200)\n",
    "println(res2)"
   ],
   "metadata": {
    "collapsed": false
   }
  },
  {
   "cell_type": "code",
   "execution_count": 17,
   "outputs": [],
   "source": [],
   "metadata": {
    "collapsed": false
   }
  },
  {
   "cell_type": "code",
   "execution_count": 22,
   "outputs": [
    {
     "name": "stdout",
     "output_type": "stream",
     "text": [
      "30\n"
     ]
    }
   ],
   "source": [
    "val res3 = (fun (x : Int) : (Int)->Int {\n",
    "    val inner = fun (y : Int) : Int {\n",
    "        return x + y\n",
    "    }\n",
    "    return inner\n",
    "}) (10)(20)\n",
    "\n",
    "println(res3)"
   ],
   "metadata": {
    "collapsed": false
   }
  },
  {
   "cell_type": "code",
   "execution_count": 26,
   "outputs": [
    {
     "name": "stdout",
     "output_type": "stream",
     "text": [
      "(kotlin.Int) -> kotlin.Int\n",
      "30\n"
     ]
    }
   ],
   "source": [
    "\n",
    " import kotlin.jvm.javaClass\n",
    " val res3 = (fun (x : Int) : (Int)->Int {\n",
    "    val inner = fun (y : Int) : Int {\n",
    "        return x + y\n",
    "    }\n",
    "    return inner\n",
    "}) (10)\n",
    "\n",
    "println(res3)\n",
    "println(res3(20))"
   ],
   "metadata": {
    "collapsed": false
   }
  },
  {
   "cell_type": "code",
   "execution_count": 31,
   "outputs": [
    {
     "name": "stdout",
     "output_type": "stream",
     "text": [
      "30\n"
     ]
    }
   ],
   "source": [
    "val res4 = (fun (x:Int) : (Int)->Int {\n",
    "    return fun(y:Int):Int{\n",
    "        return x + y\n",
    "    }\n",
    "}) (10)(20)\n",
    "println(res4)"
   ],
   "metadata": {
    "collapsed": false
   }
  },
  {
   "cell_type": "code",
   "execution_count": null,
   "outputs": [],
   "source": [
    "val res4 = (fun (x:Int) : (Int)->Int {\n",
    "    return fun(y:Int):Int{\n",
    "        return x + y\n",
    "    }\n",
    "}) (10)\n",
    "println(res4)\n",
    "println(res4(20))"
   ],
   "metadata": {
    "collapsed": false
   }
  },
  {
   "cell_type": "code",
   "execution_count": 35,
   "outputs": [
    {
     "name": "stdout",
     "output_type": "stream",
     "text": [
      "(kotlin.Int) -> (kotlin.Int) -> kotlin.Int\n",
      "(kotlin.Int) -> kotlin.Int\n",
      "30\n"
     ]
    }
   ],
   "source": [
    "val res4 = (fun (x:Int) : (Int)->Int {\n",
    "    return fun(y:Int):Int{\n",
    "        return x + y\n",
    "    }\n",
    "})\n",
    "println(res4)\n",
    "println(res4(10))\n",
    "println(res4(10)(20))"
   ],
   "metadata": {
    "collapsed": false
   }
  },
  {
   "cell_type": "code",
   "execution_count": null,
   "outputs": [],
   "source": [],
   "metadata": {
    "collapsed": false
   }
  },
  {
   "cell_type": "code",
   "execution_count": null,
   "outputs": [],
   "source": [
    "/*\n",
    "람다표현식\n",
    "\n",
    "- 코틀린에서 람다표현식은 상수처럼 사용하는 함수를 의미\n",
    "- 익명함수보다 람다표현식을 사용하는 방식이 더 간편하게 함수를 정의하고 상수처럼 인자나 반환값 등으로 전달하기 편리하다.\n",
    "\n",
    "람다표현식 정의와 실행\n",
    "익명함수 정의처럼 람다표현식도 정의하면 바로 실행할 수 있다. 보통 함수의 인자나 반환할 때 많이 사용한다.\n",
    "\n",
    "*/"
   ],
   "metadata": {
    "collapsed": false
   }
  },
  {
   "cell_type": "code",
   "execution_count": 40,
   "outputs": [
    {
     "name": "stdout",
     "output_type": "stream",
     "text": [
      "아무 인자가 없다\n",
      "100\n",
      "200\n",
      "500\n",
      "300\n"
     ]
    }
   ],
   "source": [
    "//println 함수 내에 람다표현식을 작성하고 바로 실행하면 람다표현식이 전달되는 것이 아니라 람다표현식이 실행된 결괏값이 전달되어 이를 출력한다.\n",
    "\n",
    "{ println(\"아무 인자가 없다\") }()               //인자가 없는 경우\n",
    "\n",
    "println( {x:Int -> x*x}(10) )               //인자가 하나 있는 경우\n",
    "println( {x:Int, y:Int -> x*y}(10, 20) )    // 인자가 2개 있는 경우\n",
    "\n",
    "val a = {x:Int, y:Int -> x+y}               //재사용하려면 변수에 할당\n",
    "println(a(200, 300))\n",
    "\n",
    "fun func(x:Int, y:Int, f:(Int, Int) -> Int) : Int { //함수 매개변수를 가지는 함수\n",
    "    return f(x,y)\n",
    "}\n",
    "println(func(100, 200, {x,y -> x+y}))               //인자로 람다표현식 전달"
   ],
   "metadata": {
    "collapsed": false
   }
  },
  {
   "cell_type": "code",
   "execution_count": 43,
   "outputs": [],
   "source": [],
   "metadata": {
    "collapsed": false
   }
  },
  {
   "cell_type": "code",
   "execution_count": 48,
   "outputs": [
    {
     "name": "stdout",
     "output_type": "stream",
     "text": [
      "300\n",
      "320\n",
      "500\n",
      "500\n"
     ]
    }
   ],
   "source": [
    "/*\n",
    "람다표현식은 익명함수보다 더 축약된 표현이고 return 문을 사용하지 않는 것을 빼면 동일하다.\n",
    "\n",
    "보통 재사용할 때는 함수를 정의해서 사용하지만,\n",
    "함수를 인자로 전달하고 반환값을 처리할 때는 람다표현식으로 처리한다.\n",
    "익명함수는 람다표현식보다 내부 코드가 많아질 때 사용하는 것이 좋다.\n",
    "*/\n",
    "\n",
    "println( {매개변수1:Int, 매개변수2:Int -> 매개변수1 + 매개변수2} (100, 200))    //익명함수 정의하고 즉시실행\n",
    "\n",
    "fun add(x:Int, y:Int) = x + y   //함수는 정의 후에 호출\n",
    "println(add(20, 300))\n",
    "\n",
    "println( {x:Int, y:Int -> x+y}(200, 300))\n",
    "println( (fun (x:Int, y:Int) = x+y)(200, 300))  //익명함수 정의하고 즉시 실행\n"
   ],
   "metadata": {
    "collapsed": false
   }
  },
  {
   "cell_type": "code",
   "execution_count": 45,
   "outputs": [],
   "source": [],
   "metadata": {
    "collapsed": false
   }
  },
  {
   "cell_type": "code",
   "execution_count": null,
   "outputs": [],
   "source": [
    "/*\n",
    "클로저(closure)\n",
    "\n",
    "외부함수 : 지역함수를 가진 함수\n",
    "내부함수 : 외부함수 내에 정의된 지역함수\n",
    "\n",
    "클로저\n",
    "- 외부함수 내에 내부함수를 정의하고 단순히 내부함수를 실행하지 않고 이 내부함수를 반환한다.\n",
    "- 이때 내부함수는 외부함수의 지역변수를 사용할 수 있다. 반환된 내부함수가 실행될 동안 외부함수의 지역변수를 계속 사용한다.\n",
    "  이때 외부함수의 지역변수를 자유변수라고 하고 이런 환경을 클로저(closure)라고 한다.\n",
    "\n",
    "*/"
   ],
   "metadata": {
    "collapsed": false
   }
  },
  {
   "cell_type": "code",
   "execution_count": null,
   "outputs": [],
   "source": [],
   "metadata": {
    "collapsed": false
   }
  }
 ],
 "metadata": {
  "kernelspec": {
   "display_name": "Kotlin",
   "language": "kotlin",
   "name": "kotlin"
  },
  "language_info": {
   "name": "kotlin",
   "version": "1.8.0-dev-3517",
   "mimetype": "text/x-kotlin",
   "file_extension": ".kt",
   "pygments_lexer": "kotlin",
   "codemirror_mode": "text/x-kotlin",
   "nbconvert_exporter": ""
  }
 },
 "nbformat": 4,
 "nbformat_minor": 0
}
