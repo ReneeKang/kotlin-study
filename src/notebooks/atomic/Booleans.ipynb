{
 "cells": [
  {
   "cell_type": "code",
   "execution_count": 2,
   "metadata": {
    "collapsed": true
   },
   "outputs": [
    {
     "name": "stdout",
     "output_type": "stream",
     "text": [
      "Operation hours: 9 ~ 20\r\n",
      "Open: false\r\n"
     ]
    }
   ],
   "source": [
    "fun isOpen2(hour: Int) {\n",
    "    val open = 9\n",
    "    val closed = 20\n",
    "    println(\"Operation hours: $open ~ $closed\")\n",
    "    val status = hour >= open && hour <= closed\n",
    "    println(\"Open: $status\")\n",
    "}\n",
    "//fun main() = isOpen2(6)\n",
    "//main()\n",
    "isOpen2(6)"
   ]
  },
  {
   "cell_type": "code",
   "execution_count": 4,
   "outputs": [
    {
     "name": "stdout",
     "output_type": "stream",
     "text": [
      "Operation hours: 9 ~ 20\r\n",
      "Closed: true\r\n"
     ]
    }
   ],
   "source": [
    "fun isClosed(hour: Int) {\n",
    "    val open = 9\n",
    "    val closed = 20\n",
    "    println(\"Operation hours: $open ~ $closed\")\n",
    "    val status = hour < open || hour > closed\n",
    "    println(\"Closed: $status\")\n",
    "}\n",
    "isClosed(6)"
   ],
   "metadata": {
    "collapsed": false
   }
  },
  {
   "cell_type": "code",
   "execution_count": null,
   "outputs": [],
   "source": [
    "\"\"\"\n",
    "코틀린의 기본 평가 순서\n",
    "괄호가 없는 경우 '그리고'가 먼저 평가되고 나서 '또는'이 평가된다.\n",
    "\"\"\""
   ],
   "metadata": {
    "collapsed": false
   }
  },
  {
   "cell_type": "code",
   "execution_count": null,
   "outputs": [],
   "source": [
    "\"\"\"\n",
    "while과 do-while의 차이\n",
    "\n",
    "do-while: Boolean 식이 false를 돌려줘도 본문이 최소 한번 실행된다.\n",
    "while: 처음에 조건문이 false면 본문이 실행되지 않는다.\n",
    "\"\"\""
   ],
   "metadata": {
    "collapsed": false
   }
  }
 ],
 "metadata": {
  "kernelspec": {
   "display_name": "Kotlin",
   "language": "kotlin",
   "name": "kotlin"
  },
  "language_info": {
   "name": "kotlin",
   "version": "1.8.0-dev-3517",
   "mimetype": "text/x-kotlin",
   "file_extension": ".kt",
   "pygments_lexer": "kotlin",
   "codemirror_mode": "text/x-kotlin",
   "nbconvert_exporter": ""
  }
 },
 "nbformat": 4,
 "nbformat_minor": 0
}
