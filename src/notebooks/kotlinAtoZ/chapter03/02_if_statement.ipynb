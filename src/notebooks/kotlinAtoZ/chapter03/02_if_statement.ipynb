{
 "cells": [
  {
   "cell_type": "code",
   "execution_count": null,
   "metadata": {
    "collapsed": true
   },
   "outputs": [],
   "source": [
    "/*\n",
    "조건문\n",
    "\n",
    "코틀린언어에서는 일반적인 조건을 처리하는 if 와\n",
    "패턴 매칭을 하는 when 을 제공한다.\n",
    "\n",
    "둘 다 문장 처리를 만들 수 있지만, 실제는 문장이 아니라 표현식 즉 값을 반환한다.\n",
    "*/\n"
   ]
  },
  {
   "cell_type": "code",
   "execution_count": 4,
   "outputs": [
    {
     "name": "stdout",
     "output_type": "stream",
     "text": [
      " 성공 \r\n",
      " 실패 \r\n",
      " 실패 \r\n"
     ]
    }
   ],
   "source": [
    "//단순 조건 처리 : 단일표현식\n",
    "\n",
    "if (20 >= 20) println(\" 성공 \")\n",
    "\n",
    "if (10 >= 20) println(\" 성공 \") //조건식이 참, 거짓 다 가능할 경우\n",
    "else println(\" 실패 \")\n",
    "\n",
    "val a = if (10>20) \" 성공 \" else \" 실패 \" //표현식으로 사용할때는 if와 else필수\n",
    "println(a)"
   ],
   "metadata": {
    "collapsed": false
   }
  },
  {
   "cell_type": "code",
   "execution_count": null,
   "outputs": [],
   "source": [
    "//단순 조건 처리 : 코드 블록\n",
    "if (10>20) {         //조건식은 괄호 안에\n",
    "    println(\"참\")    //블록구분에 출력 반환값 없음\n",
    "} else {\n",
    "    println(\"거짓\")\n",
    "}\n",
    "\n",
    "val a = if (10>20) { //표현식이므로 변수 할당\n",
    "    println(\"참\")\n",
    "    true             //블록에 마지막은 반환값으로 할당\n",
    "} else {\n",
    "    println(\"거짓\")\n",
    "    false            //블록에 마지막은 반환값으로 할당\n",
    "}"
   ],
   "metadata": {
    "collapsed": false
   }
  },
  {
   "cell_type": "code",
   "execution_count": null,
   "outputs": [],
   "source": [
    "//블록 구문 내의 지역변수\n",
    "\n",
    "//내포조건 처리\n"
   ],
   "metadata": {
    "collapsed": false
   }
  },
  {
   "cell_type": "code",
   "execution_count": null,
   "outputs": [],
   "source": [],
   "metadata": {
    "collapsed": false
   }
  },
  {
   "cell_type": "code",
   "execution_count": null,
   "outputs": [],
   "source": [
    "/*\n",
    "when 조건\n",
    "\n",
    "조건식을 처리하는 방식에는 특정 값이나 특정 패턴을 처리하는 패턴매칭(pattern matching) 방식도 있다.\n",
    "패턴매칭 기법에도 특정조건을 체크하지 않으면 if조건과 동일하게 구성할 수 있는 장점이 있다.\n",
    "\n",
    "- 단일 패턴매칭 : 특정 값(정수, 문자열)이나 특정 패턴(자료형 체크, 포함관계)을 하나만 처리\n",
    "- 복합 패턴매칭 : 여러 종류의 패턴을 하나의 구문에서 처리\n",
    "- 패턴이 없는 경우 : if 문처럼 임의의 패턴을 지정해서 처리\n",
    "\n",
    "*/"
   ],
   "metadata": {
    "collapsed": false
   }
  },
  {
   "cell_type": "code",
   "execution_count": 8,
   "outputs": [
    {
     "data": {
      "text/plain": "8 Cores"
     },
     "execution_count": 8,
     "metadata": {},
     "output_type": "execute_result"
    }
   ],
   "source": [
    "//when 값 매칭\n",
    "val cores = Runtime.getRuntime().availableProcessors() // 노트북 코어수 읽기\n",
    "\n",
    "when(cores) {\n",
    "    1 -> \"1 core\"\n",
    "    in 2..16 -> \"$cores Cores\"\n",
    "    else -> \"I want your machine\"\n",
    "}"
   ],
   "metadata": {
    "collapsed": false
   }
  },
  {
   "cell_type": "code",
   "execution_count": 9,
   "outputs": [
    {
     "name": "stdout",
     "output_type": "stream",
     "text": [
      "8 Cores\r\n"
     ]
    }
   ],
   "source": [
    "//when 표현식\n",
    "//조건 -> 처리된 결과\n",
    "val cores = Runtime.getRuntime().availableProcessors()\n",
    "\n",
    "fun systemInfo_(cores : Int) : String {\n",
    "    val result = when(cores) {\n",
    "        1 -> \"1 core\"\n",
    "        in 2..16 -> \"$cores Cores\"\n",
    "        else -> \"I want your machine\"\n",
    "    }\n",
    "    return result\n",
    "}\n",
    "println(systemInfo_(cores))"
   ],
   "metadata": {
    "collapsed": false
   }
  },
  {
   "cell_type": "code",
   "execution_count": 12,
   "outputs": [
    {
     "name": "stdout",
     "output_type": "stream",
     "text": [
      "8 Cores\r\n"
     ]
    }
   ],
   "source": [
    "//when 내부에 지역변수 정의와 함수 반환에 직접 표기\n",
    "fun systemInfoR() : String =                //when표현의 바로 반환값 처리\n",
    "    when(val cores = Runtime.getRuntime()   //when내의 지역변수 정의\n",
    "        .availableProcessors()) {\n",
    "        1 -> \"1 core\"\n",
    "        in 2..16 -> \"$cores Cores\"\n",
    "        else -> \"I want your machine\"\n",
    "}\n",
    "println(systemInfoR())"
   ],
   "metadata": {
    "collapsed": false
   }
  },
  {
   "cell_type": "code",
   "execution_count": 18,
   "outputs": [
    {
     "name": "stdout",
     "output_type": "stream",
     "text": [
      "짝수\n",
      "\r\n",
      "짝수\r\n"
     ]
    }
   ],
   "source": [
    "//if문 대용으로 처리\n",
    "val number = 10\n",
    "\n",
    "if (number < 0) {\n",
    "    println(\"음수\\n\")\n",
    "} else if (number == 0) {\n",
    "    println(\"영\\n\")\n",
    "} else if (number % 2 == 0) {\n",
    "    println(\"짝수\\n\")\n",
    "} else {\n",
    "    println(\"홀수\\n\")\n",
    "}\n",
    "\n",
    "when {\n",
    "    number < 0 -> println(\"음수\")\n",
    "    number == 0 -> println(\"영\")\n",
    "    number % 2 == 0 -> println(\"짝수\")\n",
    "    else -> println(\"홀수\")\n",
    "}\n"
   ],
   "metadata": {
    "collapsed": false
   }
  },
  {
   "cell_type": "code",
   "execution_count": null,
   "outputs": [],
   "source": [],
   "metadata": {
    "collapsed": false
   }
  },
  {
   "cell_type": "code",
   "execution_count": 22,
   "outputs": [
    {
     "name": "stdout",
     "output_type": "stream",
     "text": [
      "100\r\n",
      "정상적으로 처리\r\n"
     ]
    }
   ],
   "source": [
    "/*\n",
    "예외\n",
    "\n",
    "기본적인 예외처리는 try catch finally 로 한다.\n",
    "finally는 선택적으로 사용할 수 있다.\n",
    "*/\n",
    "fun add() = 100\n",
    "\n",
    "try {                       //예외 발생 지점에 정의\n",
    "    println( add() )\n",
    "} catch (e : Exception) {   //예외잡기\n",
    "    println(e)\n",
    "} finally {                 //필수적으로 처리\n",
    "    println(\"정상적으로 처리\")\n",
    "}"
   ],
   "metadata": {
    "collapsed": false
   }
  },
  {
   "cell_type": "code",
   "execution_count": null,
   "outputs": [],
   "source": [],
   "metadata": {
    "collapsed": false
   }
  },
  {
   "cell_type": "code",
   "execution_count": 24,
   "outputs": [
    {
     "name": "stdout",
     "output_type": "stream",
     "text": [
      "java.lang.Exception: 예외발생\r\n",
      "정상적으로 처리\r\n"
     ]
    }
   ],
   "source": [
    "/*\n",
    "예외던지기\n",
    "예외는 throw로 던지고 catch로 예외를 받아 정상적인 대응을 처리하는 절차를 제고앟ㄴ다.\n",
    "예외던지기 : 예외를 모드에서 발생시키는것. 보통 throw를 사용\n",
    "사용자 정의 예외 : 예외를 재정의해서 사용\n",
    "*/\n",
    "try {                           //예외발생\n",
    "    throw Exception(\"예외발생\")  //예외던지기\n",
    "} catch (e : Exception) {       //예외잡기\n",
    "    println(e)\n",
    "} finally {                     //필수적으로 처리\n",
    "    println(\"정상적으로 처리\")\n",
    "}"
   ],
   "metadata": {
    "collapsed": false
   }
  },
  {
   "cell_type": "code",
   "execution_count": 25,
   "outputs": [
    {
     "name": "stdout",
     "output_type": "stream",
     "text": [
      "java.lang.Exception: 예외발생\r\n"
     ]
    }
   ],
   "source": [
    "//함수 반환값으로 예외 발생\n",
    "fun except() : Nothing {\n",
    "    return throw Exception(\"예외발생\")\n",
    "}\n",
    "try{\n",
    "    except()\n",
    "} catch (e:Exception) {\n",
    "    println(e)\n",
    "}"
   ],
   "metadata": {
    "collapsed": false
   }
  },
  {
   "cell_type": "code",
   "execution_count": null,
   "outputs": [],
   "source": [
    "//예외도 표현식이다.\n",
    "\n",
    "//* 표현식과 문장의 차이는 표현식은 바로 계산되어 값을 반환한다.\n",
    "//  문장은 현재 상태를 보관하거나 다른 곳으로 분기 처리한다."
   ],
   "metadata": {
    "collapsed": false
   }
  },
  {
   "cell_type": "code",
   "execution_count": 26,
   "outputs": [
    {
     "name": "stdout",
     "output_type": "stream",
     "text": [
      "100\r\n"
     ]
    }
   ],
   "source": [
    "val x = try {\n",
    "    100\n",
    "} catch (e:Exception) {\n",
    "    200\n",
    "} finally {\n",
    "    300\n",
    "}\n",
    "println(x)"
   ],
   "metadata": {
    "collapsed": false
   }
  },
  {
   "cell_type": "code",
   "execution_count": 30,
   "outputs": [
    {
     "name": "stdout",
     "output_type": "stream",
     "text": [
      "200\r\n"
     ]
    }
   ],
   "source": [
    "/*\n",
    "함수의 결과가 예외인경우.\n",
    "예외에 대한 함수 반환 자료형은 Nothing이고 이 함수를 실행하면 예외가 발생하므로 try catch로 처리했다.\n",
    "실제 예외가 발생했지만,\n",
    "예외 처리로 프로세스는 중단되지 않고 정상적인 값이 변수에 할당되었다.\n",
    "*/\n",
    "fun add_ex() : Nothing = throw Exception(\"예외\")\n",
    "\n",
    "val y = try {\n",
    "    add_ex()\n",
    "} catch (e:Exception) {     //예외 발생\n",
    "    200                     //예외처리로 정상적인 값 반환\n",
    "} finally {\n",
    "    300\n",
    "}\n",
    "println(y)                  //예외가 아닌 정상값 처리"
   ],
   "metadata": {
    "collapsed": false
   }
  },
  {
   "cell_type": "code",
   "execution_count": 29,
   "outputs": [],
   "source": [],
   "metadata": {
    "collapsed": false
   }
  },
  {
   "cell_type": "code",
   "execution_count": null,
   "outputs": [],
   "source": [],
   "metadata": {
    "collapsed": false
   }
  },
  {
   "cell_type": "code",
   "execution_count": null,
   "outputs": [],
   "source": [],
   "metadata": {
    "collapsed": false
   }
  },
  {
   "cell_type": "code",
   "execution_count": null,
   "outputs": [],
   "source": [],
   "metadata": {
    "collapsed": false
   }
  },
  {
   "cell_type": "code",
   "execution_count": null,
   "outputs": [],
   "source": [],
   "metadata": {
    "collapsed": false
   }
  },
  {
   "cell_type": "code",
   "execution_count": null,
   "outputs": [],
   "source": [],
   "metadata": {
    "collapsed": false
   }
  }
 ],
 "metadata": {
  "kernelspec": {
   "display_name": "Kotlin",
   "language": "kotlin",
   "name": "kotlin"
  },
  "language_info": {
   "name": "kotlin",
   "version": "1.8.0-dev-3517",
   "mimetype": "text/x-kotlin",
   "file_extension": ".kt",
   "pygments_lexer": "kotlin",
   "codemirror_mode": "text/x-kotlin",
   "nbconvert_exporter": ""
  }
 },
 "nbformat": 4,
 "nbformat_minor": 0
}
