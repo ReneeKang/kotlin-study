{
 "cells": [
  {
   "cell_type": "code",
   "execution_count": 1,
   "metadata": {
    "collapsed": true
   },
   "outputs": [
    {
     "name": "stdout",
     "output_type": "stream",
     "text": [
      "Hey 1 !\r\n",
      "Hey 2 !\r\n",
      "Hey 3 !\r\n"
     ]
    }
   ],
   "source": [
    "fun main() {\n",
    "    for (i in 1..3) {\n",
    "        println(\"Hey $i !\")\n",
    "    }\n",
    "}\n",
    "main()"
   ]
  },
  {
   "cell_type": "code",
   "execution_count": 2,
   "outputs": [
    {
     "name": "stdout",
     "output_type": "stream",
     "text": [
      "1..10\r\n",
      "0..9\r\n"
     ]
    }
   ],
   "source": [
    "fun main() {\n",
    "    val range1 = 1..10 //양 끝 포함한 범위\n",
    "    val range2 = 0 until 10 //until다음ㅇ레 오는 값 제외한 범위\n",
    "    println(range1)\n",
    "    println(range2)\n",
    "}\n",
    "main()"
   ],
   "metadata": {
    "collapsed": false
   }
  },
  {
   "cell_type": "code",
   "execution_count": 3,
   "outputs": [
    {
     "name": "stdout",
     "output_type": "stream",
     "text": [
      "sum = 5005\r\n"
     ]
    }
   ],
   "source": [
    "//1~100 사이 정수 합계 계산\n",
    "fun main() {\n",
    "    var sum = 0\n",
    "    for (n in 10..100) {\n",
    "        sum += n\n",
    "    }\n",
    "    println(\"sum = $sum\")\n",
    "}\n",
    "main()"
   ],
   "metadata": {
    "collapsed": false
   }
  },
  {
   "cell_type": "code",
   "execution_count": 14,
   "outputs": [
    {
     "name": "stdout",
     "output_type": "stream",
     "text": [
      "1 2 3 4 5  // 1..5\r\n",
      "0 1 2 3 4  // 0..4\r\n",
      "5 4 3 2 1  // 5 downTo 1 step 1\r\n",
      "0 2 4 6 8  // 0..8 step 2\r\n",
      "0 3 6 9  // 0..9 step 3\r\n",
      "9 6 3  // 9 downTo 3 step 3\r\n"
     ]
    }
   ],
   "source": [
    "//범위를 역방향으로 이터레이션\n",
    "fun showRange(r: IntProgression) { //IntProgression은 Int범위를 포함하며, 코틀린이 제공하는 기본 타입이다.\n",
    "    for (i in r) {\n",
    "        print(\"$i \")\n",
    "    }\n",
    "    print(\" // $r\")\n",
    "    println()\n",
    "}\n",
    "\n",
    "fun main() {\n",
    "    showRange(1..5)\n",
    "    showRange(0 until 5)\n",
    "    showRange(5 downTo 1) //감소하는 범위를 만든다.\n",
    "    showRange(0..9 step 2) //간격을 변경한다. 지정하지않으면 기본 step 1\n",
    "    showRange(0 until 10 step 3)\n",
    "    showRange(9 downTo 2 step 3)\n",
    "}\n",
    "main()"
   ],
   "metadata": {
    "collapsed": false
   }
  },
  {
   "cell_type": "code",
   "execution_count": 16,
   "outputs": [
    {
     "name": "stdout",
     "output_type": "stream",
     "text": [
      "a b c d e f g h i j k l m n o p q r s t u v w x y z "
     ]
    }
   ],
   "source": [
    "//문자 범위도 가능하다\n",
    "fun main() {\n",
    "    for (c in 'a'..'z') {\n",
    "        print(\"$c \")\n",
    "    }\n",
    "}\n",
    "main()"
   ],
   "metadata": {
    "collapsed": false
   }
  },
  {
   "cell_type": "code",
   "execution_count": null,
   "outputs": [],
   "source": [
    "\"\"\"\n",
    "이터레이션은 정수, 문자처럼 하나하나 값이 구분되는 양에 대해서만 가능하다.\n",
    "예를 들어, 부동소수점 수에 대해서는 할 수 없다.\n",
    "각 괄호[]를 사용하면 숫자 인덱스를 통해 문자열(String타입)의 문자에 접근할 수 있다.\n",
    "s[0]은 String의 첫번째 문자\n",
    "s.lastIndex는 문자열의 마지막 인덱스를 알 수 있다.\n",
    "\"\"\""
   ],
   "metadata": {
    "collapsed": false
   }
  },
  {
   "cell_type": "code",
   "execution_count": null,
   "outputs": [],
   "source": [
    "fun main() {\n",
    "    val s = \"abc\"\n",
    "    for (i in 0..s.lastIndex)\n",
    "}"
   ],
   "metadata": {
    "collapsed": false
   }
  },
  {
   "cell_type": "code",
   "execution_count": null,
   "outputs": [],
   "source": [],
   "metadata": {
    "collapsed": false
   }
  }
 ],
 "metadata": {
  "kernelspec": {
   "display_name": "Kotlin",
   "language": "kotlin",
   "name": "kotlin"
  },
  "language_info": {
   "name": "kotlin",
   "version": "1.8.0-dev-3517",
   "mimetype": "text/x-kotlin",
   "file_extension": ".kt",
   "pygments_lexer": "kotlin",
   "codemirror_mode": "text/x-kotlin",
   "nbconvert_exporter": ""
  }
 },
 "nbformat": 4,
 "nbformat_minor": 0
}
