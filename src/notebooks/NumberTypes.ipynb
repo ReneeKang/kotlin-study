{
 "cells": [
  {
   "cell_type": "code",
   "execution_count": 1,
   "metadata": {
    "collapsed": true
   },
   "outputs": [
    {
     "name": "stdout",
     "output_type": "stream",
     "text": [
      "1000000\r\n"
     ]
    }
   ],
   "source": [
    "fun main() {\n",
    "    val million = 1_000_000\n",
    "    println(million)\n",
    "}\n",
    "main()"
   ]
  },
  {
   "cell_type": "code",
   "execution_count": 2,
   "outputs": [
    {
     "name": "stdout",
     "output_type": "stream",
     "text": [
      "9\r\n"
     ]
    }
   ],
   "source": [
    "fun main() {\n",
    "    val numerator: Int = 19\n",
    "    val denominator: Int = 10\n",
    "    println(numerator % denominator)\n",
    "}\n",
    "main()"
   ],
   "metadata": {
    "collapsed": false
   }
  },
  {
   "cell_type": "code",
   "execution_count": 3,
   "outputs": [
    {
     "name": "stdout",
     "output_type": "stream",
     "text": [
      "1\r\n"
     ]
    }
   ],
   "source": [
    "fun main() {\n",
    "    val numerator: Int = 19\n",
    "    val denominator: Int = 10\n",
    "    println(numerator / denominator) //정수 나눗셈은 결과를 잘라서 정수로 돌려준다\n",
    "}\n",
    "main()"
   ],
   "metadata": {
    "collapsed": false
   }
  },
  {
   "cell_type": "code",
   "execution_count": 5,
   "outputs": [
    {
     "name": "stdout",
     "output_type": "stream",
     "text": [
      "75\r\n"
     ]
    }
   ],
   "source": [
    "fun main() {\n",
    "    println(45 + 5 * 6)\n",
    "}\n",
    "main()"
   ],
   "metadata": {
    "collapsed": false
   }
  },
  {
   "cell_type": "code",
   "execution_count": 7,
   "outputs": [
    {
     "name": "stdout",
     "output_type": "stream",
     "text": [
      "300\r\n"
     ]
    }
   ],
   "source": [
    "fun main() {\n",
    "    println((45 + 5) * 6)\n",
    "}\n",
    "main()"
   ],
   "metadata": {
    "collapsed": false
   }
  },
  {
   "cell_type": "code",
   "execution_count": 8,
   "outputs": [
    {
     "data": {
      "text/plain": "\n함수 파라미터를 한 줄에 쓸 수 없을 때\n코드를 작성하는 형식\n"
     },
     "execution_count": 8,
     "metadata": {},
     "output_type": "execute_result"
    }
   ],
   "source": [
    "\"\"\"\n",
    "함수 파라미터를 한 줄에 쓸 수 없을 때\n",
    "코드를 작성하는 형식\n",
    "\"\"\""
   ],
   "metadata": {
    "collapsed": false
   }
  },
  {
   "cell_type": "code",
   "execution_count": 17,
   "outputs": [
    {
     "name": "stdout",
     "output_type": "stream",
     "text": [
      "Normal weight\r\n"
     ]
    }
   ],
   "source": [
    "fun bmiMetric(\n",
    "    weight: Double, //Double은 아주 큰 부동소수점수와 아주 작은 부동소수점 수를 저장할 수 있다.\n",
    "    height: Double\n",
    "): String {\n",
    "    val bmi = weight / (height * height)\n",
    "    return if (bmi <18.5) \"Underweight\"\n",
    "      else if (bmi < 25) \"Normal weight\"\n",
    "      else \"Overweight\"\n",
    "}\n",
    "\n",
    "fun main() {\n",
    "    val weight = 72.57\n",
    "    val height = 1.727\n",
    "    val status = bmiMetric(weight, height)\n",
    "    println(status)\n",
    "}\n",
    "main()"
   ],
   "metadata": {
    "collapsed": false
   }
  },
  {
   "cell_type": "code",
   "execution_count": null,
   "outputs": [],
   "source": [
    "\"\"\"\n",
    "정수를 다른 정수로 나누면 코틀린은 정수를 돌려준다.\n",
    "정수 나눗셈에서 나머지를 처리하는 일반적인 방법은\n",
    "'버림'이다.\n",
    "'버림' 이라는 말은 '소수점 이하를 잘라내 버린다' 라는 뜻이다.\n",
    "\n",
    "정확도를 유지하기 위해서 수 값의 타입을 가능한 한 빨리 적절한 타입으로 변환해줘야 한다.\n",
    "\"\"\""
   ],
   "metadata": {
    "collapsed": false
   }
  },
  {
   "cell_type": "code",
   "execution_count": 18,
   "outputs": [
    {
     "name": "stdout",
     "output_type": "stream",
     "text": [
      "Normal weight\r\n"
     ]
    }
   ],
   "source": [
    "fun bmiEnglish(\n",
    "    weight: Int, //Double은 아주 큰 부동소수점수와 아주 작은 부동소수점 수를 저장할 수 있다.\n",
    "    height: Int\n",
    "): String {\n",
    "//    val bmi = weight / (height * height) * 703.07\n",
    "    val bmi = 703.07 * weight / (height * height)\n",
    "    return if (bmi <18.5) \"Underweight\"\n",
    "      else if (bmi < 25) \"Normal weight\"\n",
    "      else \"Overweight\"\n",
    "}\n",
    "\n",
    "fun main() {\n",
    "    val weight = 160\n",
    "    val height = 68\n",
    "    val status = bmiEnglish(weight, height)\n",
    "    println(status)\n",
    "}\n",
    "main()"
   ],
   "metadata": {
    "collapsed": false
   }
  },
  {
   "cell_type": "code",
   "execution_count": 24,
   "outputs": [
    {
     "name": "stdout",
     "output_type": "stream",
     "text": [
      "2147483647\r\n",
      "-2\r\n"
     ]
    }
   ],
   "source": [
    "fun main() {\n",
    "    val i: Int = Int.MAX_VALUE //Int타입이 저장할 수 있는 가장 큰 값을 나타내는 미리 정의된 상수\n",
    "    println(i)\n",
    "    println(i + i) //overflow 발생\n",
    "}\n",
    "main()"
   ],
   "metadata": {
    "collapsed": false
   }
  },
  {
   "cell_type": "code",
   "execution_count": null,
   "outputs": [],
   "source": [
    "\"\"\"\n",
    "큰 수를 저장하려면 Long타입을 사용할 수 있다.\n",
    "\"\"\""
   ],
   "metadata": {
    "collapsed": false
   }
  },
  {
   "cell_type": "code",
   "execution_count": 25,
   "outputs": [
    {
     "name": "stdout",
     "output_type": "stream",
     "text": [
      "0 0\r\n"
     ]
    }
   ],
   "source": [
    "fun main(){\n",
    "    val i = 0        //Int 타입을 추론\n",
    "    val l1 = 0L      //L을 사용해 Long 타입으로\n",
    "    val l2: Long = 0 //명시적으로 타입 지정\n",
    "    println(\"$l1 $l2\")\n",
    "}\n",
    "main()"
   ],
   "metadata": {
    "collapsed": false
   }
  },
  {
   "cell_type": "code",
   "execution_count": 31,
   "outputs": [
    {
     "name": "stdout",
     "output_type": "stream",
     "text": [
      "4294967294\r\n",
      "1000000000000\r\n"
     ]
    }
   ],
   "source": [
    "fun main() {\n",
    "    val i = Int.MAX_VALUE\n",
    "    println(0L + i + i) //Long을 사용해 IntegerOverflow.kr 넘침 방지\n",
    "    println(1_000_000 * 1_000_000L)\n",
    "}\n",
    "main()"
   ],
   "metadata": {
    "collapsed": false
   }
  },
  {
   "cell_type": "code",
   "execution_count": 33,
   "outputs": [
    {
     "name": "stdout",
     "output_type": "stream",
     "text": [
      "9223372036854775807\r\n"
     ]
    }
   ],
   "source": [
    "fun main() {\n",
    "    println(Long.MAX_VALUE) //Long타입으로 저장할 수 있는 가장 큰 값\n",
    "}\n",
    "main()"
   ],
   "metadata": {
    "collapsed": false
   }
  },
  {
   "cell_type": "code",
   "execution_count": null,
   "outputs": [],
   "source": [],
   "metadata": {
    "collapsed": false
   }
  }
 ],
 "metadata": {
  "kernelspec": {
   "display_name": "Kotlin",
   "language": "kotlin",
   "name": "kotlin"
  },
  "language_info": {
   "name": "kotlin",
   "version": "1.8.0-dev-3517",
   "mimetype": "text/x-kotlin",
   "file_extension": ".kt",
   "pygments_lexer": "kotlin",
   "codemirror_mode": "text/x-kotlin",
   "nbconvert_exporter": ""
  }
 },
 "nbformat": 4,
 "nbformat_minor": 0
}
