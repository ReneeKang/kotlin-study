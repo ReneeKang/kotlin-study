{
 "cells": [
  {
   "cell_type": "code",
   "execution_count": null,
   "metadata": {
    "collapsed": true
   },
   "outputs": [],
   "source": [
    "/*\n",
    "범위\n",
    "\n",
    "숫자나 문자 등을 연속적인 특정 영역으로 지정할 수 있다.\n",
    "이런 객체를 만드는 클래스인 범위(Range)나 진행(Progressione)을 지원한다.\n",
    "*/\n"
   ]
  },
  {
   "cell_type": "code",
   "execution_count": null,
   "outputs": [],
   "source": [],
   "metadata": {
    "collapsed": false
   }
  },
  {
   "cell_type": "code",
   "execution_count": 5,
   "outputs": [
    {
     "name": "stdout",
     "output_type": "stream",
     "text": [
      "true\r\n",
      "range2 first = 1\r\n",
      "range2 last = 10\r\n",
      "range3 first = 1\r\n",
      "range3 last = 9\r\n",
      "range4 first = 10\r\n",
      "range4 last = 1\r\n"
     ]
    }
   ],
   "source": [
    "val range1 = 1..10\n",
    "val range2 = 1.rangeTo(10)\n",
    "println(range1 == range2)\n",
    "println(\"range2 first = ${range2.first}\")\n",
    "println(\"range2 last = ${range2.last}\")\n",
    "\n",
    "val range3 = 1.until(10)\n",
    "println(\"range3 first = ${range3.first}\")\n",
    "println(\"range3 last = ${range3.last}\")\n",
    "\n",
    "val range4 = 10.downTo(1)\n",
    "println(\"range4 first = ${range4.first}\")\n",
    "println(\"range4 last = ${range4.last}\")"
   ],
   "metadata": {
    "collapsed": false
   }
  },
  {
   "cell_type": "code",
   "execution_count": null,
   "outputs": [],
   "source": [],
   "metadata": {
    "collapsed": false
   }
  },
  {
   "cell_type": "code",
   "execution_count": 8,
   "outputs": [
    {
     "name": "stdout",
     "output_type": "stream",
     "text": [
      "class kotlin.ranges.IntProgression\r\n",
      "range5 first = 1\r\n",
      "range5 last = 9\r\n",
      "range5 step = 2\r\n"
     ]
    }
   ],
   "source": [
    "//step메서드를 사용해 간격대로 이동하는 진행 처리\n",
    "val range5 = 1.rangeTo(10).step(2)\n",
    "\n",
    "println(range5.javaClass.kotlin)\n",
    "println(\"range5 first = ${range5.first}\")\n",
    "println(\"range5 last = ${range5.last}\")\n",
    "println(\"range5 step = ${range5.step}\")\n"
   ],
   "metadata": {
    "collapsed": false
   }
  },
  {
   "cell_type": "code",
   "execution_count": null,
   "outputs": [],
   "source": [],
   "metadata": {
    "collapsed": false
   }
  },
  {
   "cell_type": "code",
   "execution_count": null,
   "outputs": [],
   "source": [
    "/*\n",
    "순환(loop)\n",
    "for 순환은 범위와 진행을 사용해 반복 순환 처리.\n",
    "반복 순환이 가능한 반복자를 가지는 컬렉션(collection) 패키지인 배열, 리스트, 집합, 맵을 사용할 수 있다.\n",
    "\n",
    "for 순환 표기법\n",
    "지역변수 in 반복형(iterable) 즉 컬렉션클래스의 객체인 범위, 배열, 집합, 맵 등\n",
    "\n",
    "순환 중단 처리법\n",
    "- break\n",
    "- continue\n",
    "- break@레이블, continue@레이블\n",
    "*/\n"
   ],
   "metadata": {
    "collapsed": false
   }
  },
  {
   "cell_type": "code",
   "execution_count": 12,
   "outputs": [
    {
     "name": "stdout",
     "output_type": "stream",
     "text": [
      "1, 2, 3, 4, 5, \r\n",
      "1, 2, 3, 4, 5, \r\n",
      "1, 2, 3, 4, \r\n"
     ]
    }
   ],
   "source": [
    "//for 순방향 순환\n",
    "for (i in 1..5) {\n",
    "    print(i.toString() + \", \")\n",
    "}\n",
    "println()\n",
    "\n",
    "for (i in 1.rangeTo(5)) {\n",
    "    print(i.toString() + \", \")\n",
    "}\n",
    "println()\n",
    "\n",
    "for (i in 1.until(5)) {\n",
    "    print(i.toString() + \", \")\n",
    "}\n",
    "println()"
   ],
   "metadata": {
    "collapsed": false
   }
  },
  {
   "cell_type": "code",
   "execution_count": 15,
   "outputs": [
    {
     "name": "stdout",
     "output_type": "stream",
     "text": [
      "5, \r\n",
      "5, "
     ]
    }
   ],
   "source": [
    "//범위 시작과 끝이 같으면 한 번만 실행됨\n",
    "for (i in 5..5) {\n",
    "    print(i.toString() + \", \")\n",
    "}\n",
    "println()\n",
    "\n",
    "for (i in 5..5 step 3) {\n",
    "    print(i.toString() + \", \")\n",
    "}"
   ],
   "metadata": {
    "collapsed": false
   }
  },
  {
   "cell_type": "code",
   "execution_count": 26,
   "outputs": [
    {
     "name": "stdout",
     "output_type": "stream",
     "text": [
      "\r\n",
      "10, 9, 8, 7, 6, 5, 4, 3, 2, 1, \r\n",
      "10, 9, 8, 7, 6, 5, 4, 3, 2, 1, \r\n",
      "10, "
     ]
    }
   ],
   "source": [
    "//역방향 순환\n",
    "for (i in 10..1) {\n",
    "    print(i.toString() + \", \")\n",
    "}\n",
    "println()\n",
    "\n",
    "for (i in 10 downTo 1) {\n",
    "    print(i.toString() + \", \")\n",
    "}\n",
    "println()\n",
    "\n",
    "for (i in 10.downTo(1)) {\n",
    "    print(i.toString() + \", \")\n",
    "}\n",
    "println()\n",
    "\n",
    "for (i in 10.downTo(10)) {\n",
    "    print(i.toString() + \", \")\n",
    "}"
   ],
   "metadata": {
    "collapsed": false
   }
  },
  {
   "cell_type": "code",
   "execution_count": null,
   "outputs": [],
   "source": [],
   "metadata": {
    "collapsed": false
   }
  },
  {
   "cell_type": "code",
   "execution_count": 28,
   "outputs": [
    {
     "name": "stdout",
     "output_type": "stream",
     "text": [
      "a, b, c, d, e, f, \r\n",
      "f, e, d, c, b, a, "
     ]
    }
   ],
   "source": [
    "//문자 범위 순환\n",
    "for (ch in 'a'..'f') {\n",
    "    print(ch.toString() + \", \")\n",
    "}\n",
    "println()\n",
    "for (ch in 'f' downTo 'a') {\n",
    "    print(ch.toString() + \", \")\n",
    "}"
   ],
   "metadata": {
    "collapsed": false
   }
  },
  {
   "cell_type": "code",
   "execution_count": 30,
   "outputs": [
    {
     "name": "stdout",
     "output_type": "stream",
     "text": [
      "continue 2\r\n",
      "continue 4\r\n",
      "continue 6\r\n",
      "break 7\r\n"
     ]
    }
   ],
   "source": [
    "//순환 블록 내 코드 작성\n",
    "for (i in 1..10) {\n",
    "    if (i%2 == 0) {\n",
    "        println(\"continue $i\")\n",
    "        continue\n",
    "    }\n",
    "    if (i == 7) {\n",
    "        println(\"break $i\")\n",
    "        break\n",
    "    }\n",
    "}"
   ],
   "metadata": {
    "collapsed": false
   }
  },
  {
   "cell_type": "code",
   "execution_count": 31,
   "outputs": [
    {
     "name": "stdout",
     "output_type": "stream",
     "text": [
      "for 순환 1\r\n",
      "for 순환 2\r\n",
      "내포순환\r\n"
     ]
    }
   ],
   "source": [
    "//레이블 사용해서 외부 순환문으로 빠져나오기\n",
    "loop@ for(i in 1..3){\n",
    "    for(j in 1..5){\n",
    "        if(j==3){\n",
    "            println(\"내포순환\")\n",
    "            break@loop\n",
    "        }\n",
    "        println(\"for 순환 $j\")\n",
    "    }\n",
    "}"
   ],
   "metadata": {
    "collapsed": false
   }
  },
  {
   "cell_type": "code",
   "execution_count": null,
   "outputs": [],
   "source": [],
   "metadata": {
    "collapsed": false
   }
  },
  {
   "cell_type": "code",
   "execution_count": 37,
   "outputs": [
    {
     "name": "stdout",
     "output_type": "stream",
     "text": [
      "===========> n : 0\r\n",
      "m : 0\r\n",
      "m : 1\r\n",
      "m == 2\r\n",
      "===========> n : 1\r\n",
      "m : 0\r\n",
      "m : 1\r\n",
      "m == 2\r\n"
     ]
    }
   ],
   "source": [
    "//while / do while\n",
    "\n",
    "var n = 0\n",
    "while(n < 2) {\n",
    "    println(\"===========> n : \" + n)\n",
    "\n",
    "    var m = 0\n",
    "    while(m < 2) {\n",
    "        println(\"m : \" + m)\n",
    "        m++\n",
    "        if(m == 2){\n",
    "            println(\"m == 2\")\n",
    "            continue\n",
    "        }\n",
    "    }\n",
    "    n++\n",
    "}"
   ],
   "metadata": {
    "collapsed": false
   }
  },
  {
   "cell_type": "code",
   "execution_count": 39,
   "outputs": [
    {
     "name": "stdout",
     "output_type": "stream",
     "text": [
      "n : 0\r\n",
      "m : 0\r\n",
      "m : 1\r\n",
      "m : 2\r\n"
     ]
    }
   ],
   "source": [
    "var n = 0\n",
    "var m = 0\n",
    "loop@ while(n < 3) {\n",
    "    println(\"n : \" + n)\n",
    "    while(m < 5) {\n",
    "        println(\"m : \" + m)\n",
    "        m++\n",
    "        if(m == 3) break@loop\n",
    "    }\n",
    "}"
   ],
   "metadata": {
    "collapsed": false
   }
  },
  {
   "cell_type": "code",
   "execution_count": null,
   "outputs": [],
   "source": [],
   "metadata": {
    "collapsed": false
   }
  },
  {
   "cell_type": "code",
   "execution_count": null,
   "outputs": [],
   "source": [
    "/*\n",
    "반복자\n",
    "\n",
    "여러개 원소를 가진 자료형인 범위, 배열, 리스트 등은 반복형(Iterable) 클래스 이며\n",
    "이를 객체로 만들어도 반복형 객체이다.\n",
    "이 반복형을 iterator 메서드로 반복자(Iterator)클래스의 객체로 변환할 수 있다.\n",
    "반복형과 반복자의 차이점은 반복형을 반복자로 자료형을 변환하면\n",
    "내부의 원소를 순환할 수 있는 메서드가 추가된다.\n",
    "*/\n"
   ],
   "metadata": {
    "collapsed": false
   }
  },
  {
   "cell_type": "code",
   "execution_count": 40,
   "outputs": [
    {
     "name": "stdout",
     "output_type": "stream",
     "text": [
      "1, 2, 3, 4, 5, 6, 7, 8, 9, 10, \r\n",
      "a, b, c, d, e, f, g, h, i, j, k, l, m, n, o, p, q, r, s, t, u, v, w, x, y, z, "
     ]
    }
   ],
   "source": [
    "/*\n",
    "반복형을 반복자로 변환\n",
    "- 반복형 내의 iterator 메서드를 실행하면 반복자(Iterator)클래스의 객체로 변환된다.\n",
    "- 반복자는 현재 상태를 조회하는 hasNext 메서드, 다음 원소를 조회하는 next 메서드가 추가된다.\n",
    "- 반복자의 순환은 hasNext 메서드로 상태를 확인하고 next 메서드로 원소를 조회하면서 처리한다.\n",
    "- 반복자의 특징은 한번 모든 원소를 조회하면 다시 객체를 생성해서 사용한다.\n",
    "\n",
    "내부순환과 외부순환\n",
    "- 외부 순환 : for, while, do whild 문을 사용해 반복자의 원소를 조회해서 반복처리하는 방식\n",
    "- 내부 순환 : 반복자 내부의 메서드를 사용해 반복 처리하는 방식이다. 보통 내부 순환을 하는 map, filter, reduce, forEach 등의 메서드를 제공한다.\n",
    "\n",
    "범위 반복자\n",
    "숫자나 무자로 범위를 만들고 for를 사용해서 순환한다. 범위를 반복자로 변환해서 내부 순환 처리를 알아본다.\n",
    "*/\n",
    "val i = 1..10\n",
    "val c = 'a'..'z'\n",
    "\n",
    "val iIter = i.iterator()\n",
    "val cIter = c.iterator()\n",
    "\n",
    "iIter.forEach { print(it.toString() + \", \") }   //내부순환\n",
    "\n",
    "println()\n",
    "for (i in cIter) print(i + \", \")                //외부순환"
   ],
   "metadata": {
    "collapsed": false
   }
  },
  {
   "cell_type": "code",
   "execution_count": 46,
   "outputs": [
    {
     "name": "stdout",
     "output_type": "stream",
     "text": [
      "a\r\n",
      "b\r\n",
      "c\r\n"
     ]
    }
   ],
   "source": [
    "/*\n",
    "반복자 내의 메서드로 순환처리\n",
    "범위객체 -> 반복자객체로 변환 후 반복자에서 제공하는 hasNext, next메서드로 순환을 처리\n",
    "*/\n",
    "val r = ('a'..'c').iterator()\n",
    "while(r.hasNext()){\n",
    "    println(r.next())\n",
    "}\n"
   ],
   "metadata": {
    "collapsed": false
   }
  },
  {
   "cell_type": "code",
   "execution_count": 47,
   "outputs": [
    {
     "name": "stdout",
     "output_type": "stream",
     "text": [
      "a\r\n",
      "b\r\n",
      "c\r\n",
      "\r\n",
      "a\r\n",
      "b\r\n",
      "c\r\n"
     ]
    }
   ],
   "source": [
    "('a'..'c').forEach(::println)\n",
    "println()\n",
    "\n",
    "('a'..'c').iterator().forEach(::println)"
   ],
   "metadata": {
    "collapsed": false
   }
  },
  {
   "cell_type": "code",
   "execution_count": null,
   "outputs": [],
   "source": [],
   "metadata": {
    "collapsed": false
   }
  }
 ],
 "metadata": {
  "kernelspec": {
   "display_name": "Kotlin",
   "language": "kotlin",
   "name": "kotlin"
  },
  "language_info": {
   "name": "kotlin",
   "version": "1.8.0-dev-3517",
   "mimetype": "text/x-kotlin",
   "file_extension": ".kt",
   "pygments_lexer": "kotlin",
   "codemirror_mode": "text/x-kotlin",
   "nbconvert_exporter": ""
  }
 },
 "nbformat": 4,
 "nbformat_minor": 0
}
