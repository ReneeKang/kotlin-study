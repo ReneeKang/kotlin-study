{
 "cells": [
  {
   "cell_type": "code",
   "execution_count": 4,
   "outputs": [
    {
     "name": "stdout",
     "output_type": "stream",
     "text": [
      "Found 42\r\n",
      "printing a $1\r\n"
     ]
    }
   ],
   "source": [
    "fun main() {\n",
    "    val answer = 42\n",
    "    println(\"Found $answer\") //식별자 이름 앞 $를 붙이면, 문자열 템플릿이 그 식별자의 내용을 String에 넣어준다.\n",
    "    println(\"printing a $1\")\n",
    "}\n",
    "main()"
   ],
   "metadata": {
    "collapsed": false
   }
  },
  {
   "cell_type": "code",
   "execution_count": 5,
   "outputs": [
    {
     "name": "stdout",
     "output_type": "stream",
     "text": [
      "first: hi\n",
      "second: 11, third: 3.14\r\n"
     ]
    }
   ],
   "source": [
    "fun main() {\n",
    "    val s = \"hi\\n\" //\\n은 새줄 문자\n",
    "    val n = 11\n",
    "    val d = 3.14\n",
    "\n",
    "    println(\"first: \" + s + \"second: \" + n + \", third: \" +d)\n",
    "}\n",
    "main()"
   ],
   "metadata": {
    "collapsed": false
   }
  },
  {
   "cell_type": "code",
   "execution_count": 6,
   "outputs": [
    {
     "name": "stderr",
     "output_type": "stream",
     "text": [
      "Line_8.jupyter-kts (4:3 - 3) Expecting an expression"
     ]
    }
   ],
   "source": [
    "\"\"\"\n",
    "${} 중괄호 안에 식을 넣으면 그 식을 평가한다. 평가한 결과값은 String으로 변환해서 String에 삽입한다.\n",
    "\"\"\""
   ],
   "metadata": {
    "collapsed": false
   }
  },
  {
   "cell_type": "code",
   "execution_count": 7,
   "outputs": [
    {
     "name": "stdout",
     "output_type": "stream",
     "text": [
      "a\r\n",
      "11 + 4 = 15\r\n"
     ]
    }
   ],
   "source": [
    "fun main() {\n",
    "    val condition = true\n",
    "    println(\n",
    "        \"${if (condition) 'a' else 'b'}\"\n",
    "    )\n",
    "    val x = 11\n",
    "    println(\"$x + 4 = ${x +4}\")\n",
    "}\n",
    "main()"
   ],
   "metadata": {
    "collapsed": false
   }
  },
  {
   "cell_type": "code",
   "execution_count": null,
   "outputs": [],
   "source": [
    "\"\"\"\n",
    "String 안에 큰따옴표 등 특수문자를 넣어야 하는 경우 역슬래시(\\)로 이스케이프 처리 하거나\n",
    "큰 따옴표를 연달아 세개 쓰는 String 리터럴을 사용해야 한다.\"\"\""
   ],
   "metadata": {
    "collapsed": false
   }
  },
  {
   "cell_type": "code",
   "execution_count": 12,
   "outputs": [
    {
     "name": "stdout",
     "output_type": "stream",
     "text": [
      "s = \"value\".\r\n",
      "s = \"value\".\r\n"
     ]
    }
   ],
   "source": [
    "fun main() {\n",
    "    val s = \"value\"\n",
    "    println(\"s = \\\"$s\\\".\")\n",
    "    println(\"\"\"s = \"$s\".\"\"\")\n",
    "}\n",
    "main()"
   ],
   "metadata": {
    "collapsed": false
   }
  },
  {
   "cell_type": "code",
   "execution_count": null,
   "outputs": [],
   "source": [],
   "metadata": {
    "collapsed": false,
    "pycharm": {
     "is_executing": true
    }
   }
  },
  {
   "cell_type": "code",
   "execution_count": 9,
   "outputs": [],
   "source": [],
   "metadata": {
    "collapsed": false
   }
  }
 ],
 "metadata": {
  "kernelspec": {
   "display_name": "Kotlin",
   "language": "kotlin",
   "name": "kotlin"
  },
  "language_info": {
   "name": "kotlin",
   "version": "1.8.0-dev-3517",
   "mimetype": "text/x-kotlin",
   "file_extension": ".kt",
   "pygments_lexer": "kotlin",
   "codemirror_mode": "text/x-kotlin",
   "nbconvert_exporter": ""
  }
 },
 "nbformat": 4,
 "nbformat_minor": 0
}
