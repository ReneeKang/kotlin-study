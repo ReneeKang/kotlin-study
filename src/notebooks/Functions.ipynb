{
 "cells": [
  {
   "cell_type": "code",
   "execution_count": 4,
   "metadata": {
    "collapsed": true
   },
   "outputs": [
    {
     "name": "stdout",
     "output_type": "stream",
     "text": [
      "Inside multiplyByTwo\n",
      "10\n"
     ]
    }
   ],
   "source": [
    "fun multiplyByTwo(x: Int): Int {\n",
    "    println(\"Inside multiplyByTwo\")\n",
    "    return x * 2\n",
    "}\n",
    "\n",
    "fun main() {\n",
    "    val r = multiplyByTwo(5)\n",
    "    println(r) //코틀린이 제공하는 함수 - 표준 라이브러리 함수\n",
    "}\n",
    "main()"
   ]
  },
  {
   "cell_type": "code",
   "execution_count": null,
   "outputs": [],
   "source": [],
   "metadata": {
    "collapsed": false,
    "pycharm": {
     "is_executing": true
    }
   }
  },
  {
   "cell_type": "code",
   "execution_count": 6,
   "outputs": [
    {
     "name": "stdout",
     "output_type": "stream",
     "text": [
      "Hello!\n",
      "Auf Wiedersehen!\n"
     ]
    }
   ],
   "source": [
    "fun sayHello() {\n",
    "    println(\"Hello!\")\n",
    "}\n",
    "\n",
    "fun sayGoodbye(): Unit {\n",
    "    println(\"Auf Wiedersehen!\")\n",
    "}\n",
    "\n",
    "fun main() { // sayHello()와 sayGoodbye()의 반환타입 모두 Unit이다. main()역시.\n",
    "    sayHello()\n",
    "    sayGoodbye()\n",
    "}\n",
    "main()"
   ],
   "metadata": {
    "collapsed": false
   }
  },
  {
   "cell_type": "code",
   "execution_count": null,
   "outputs": [],
   "source": [
    "// 함수 본문이 하나의 식으로만 이뤄진 경우, 등호(=) 뒤에 그 식을 넣어 함수를 짧게 작성 가능하다."
   ],
   "metadata": {
    "collapsed": false,
    "pycharm": {
     "is_executing": true
    }
   }
  },
  {
   "cell_type": "markdown",
   "source": [],
   "metadata": {
    "collapsed": false
   }
  },
  {
   "cell_type": "code",
   "execution_count": 10,
   "outputs": [
    {
     "name": "stdout",
     "output_type": "stream",
     "text": [
      "15\n"
     ]
    }
   ],
   "source": [
    "fun multiplyByThree(x: Int): Int = x * 3\n",
    "\n",
    "fun main() {\n",
    "    println(multiplyByThree(5))\n",
    "}\n",
    "main()"
   ],
   "metadata": {
    "collapsed": false
   }
  },
  {
   "cell_type": "code",
   "execution_count": 16,
   "outputs": [
    {
     "data": {
      "text/plain": "\n코틀린은 식 본문을 사용하는 함수의 반환 타입을 추론한다.\n함수 본문이 블록 본문이고 그 함수의 반환 타입을 명시하지 않으면,\n함수의 반환 타입은 Unit 이라고 지정한 것과 같다.\n"
     },
     "execution_count": 16,
     "metadata": {},
     "output_type": "execute_result"
    }
   ],
   "source": [
    "\"\"\"\n",
    "코틀린은 식 본문을 사용하는 함수의 반환 타입을 추론한다.\n",
    "함수 본문이 블록 본문이고 그 함수의 반환 타입을 명시하지 않으면,\n",
    "함수의 반환 타입은 Unit 이라고 지정한 것과 같다.\n",
    "\"\"\""
   ],
   "metadata": {
    "collapsed": false
   }
  },
  {
   "cell_type": "code",
   "execution_count": 14,
   "outputs": [
    {
     "name": "stdout",
     "output_type": "stream",
     "text": [
      "20\n"
     ]
    }
   ],
   "source": [
    "fun multiplyByFour(x: Int) = x * 4\n",
    "\n",
    "fun main() {\n",
    "    val result: Int = multiplyByFour(5)\n",
    "    println(result)\n",
    "}\n",
    "main()"
   ],
   "metadata": {
    "collapsed": false
   }
  },
  {
   "cell_type": "code",
   "execution_count": null,
   "outputs": [],
   "source": [],
   "metadata": {
    "collapsed": false
   }
  }
 ],
 "metadata": {
  "kernelspec": {
   "display_name": "Kotlin",
   "language": "kotlin",
   "name": "kotlin"
  },
  "language_info": {
   "name": "kotlin",
   "version": "1.8.0-dev-3517",
   "mimetype": "text/x-kotlin",
   "file_extension": ".kt",
   "pygments_lexer": "kotlin",
   "codemirror_mode": "text/x-kotlin",
   "nbconvert_exporter": ""
  }
 },
 "nbformat": 4,
 "nbformat_minor": 0
}
