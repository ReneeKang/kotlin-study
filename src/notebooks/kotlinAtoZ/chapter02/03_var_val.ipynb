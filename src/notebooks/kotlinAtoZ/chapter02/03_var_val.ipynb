{
 "cells": [
  {
   "cell_type": "code",
   "execution_count": null,
   "metadata": {
    "collapsed": true
   },
   "outputs": [],
   "source": [
    "\"\"\"\n",
    "값을 저장하는 변수와 상수\n",
    "\n",
    "프로그램 언어내에서 특정 값을 보관하는 장소는 변수와 상수이다.\n",
    "코틀린에서 변수를 정의할 때는 예약어 val, var를 사용한다.\n",
    "상수는 const val 예약어만 사용할 수 있으며 정의할 수 있는 영역도 제한된다.\"\"\""
   ]
  },
  {
   "cell_type": "code",
   "execution_count": null,
   "outputs": [],
   "source": [],
   "metadata": {
    "collapsed": false
   }
  },
  {
   "cell_type": "code",
   "execution_count": null,
   "outputs": [],
   "source": [
    "\"\"\"\n",
    "변수와 상수\n",
    "\n",
    "변수\n",
    "- 불변변수(val): 한번 저장하면 다시 할당할 수 없는 변수를 정의한다.\n",
    "- 가변변수(var): 재할당할 수 있는 변수를 정의한다.\n",
    "\n",
    "상수 정의\n",
    "- 패키지나 object 예약어를 사용하는 곳에서만 정의할 수 있다.\n",
    "- 상수는 const val 예약어를 사용한다.\n",
    "- 상수는 변수와 구별하기 위해 상수 이름을 모두 대문자로 쓴다.\"\"\""
   ],
   "metadata": {
    "collapsed": false
   }
  },
  {
   "cell_type": "code",
   "execution_count": null,
   "outputs": [],
   "source": [
    "\"\"\"\n",
    "변수와 상수 정의\n",
    "\n",
    "코틀린언어에서 변수와 상수는 둘 다 값을 저장해서 관리한다.\n",
    "상수는 정의할 때 한번 값을 할당한다.\n",
    "var 변수는 한번 정의하고 다양하게 변경하면서 사용할 수 있다.\"\"\""
   ],
   "metadata": {
    "collapsed": false
   }
  },
  {
   "cell_type": "code",
   "execution_count": null,
   "outputs": [],
   "source": [
    "\"\"\"\n",
    "변수, 상수 정의와 참조 구분\n",
    "- 정의(Declaration)는 변수와 상수를 처음으로 만드는 것을 말한다.\n",
    "- 참조(Reference)는 만들어진 변수나 상수의 값을 이름으로 조회하는 것을 말한다.\n",
    "- 할당(Assignment)은 변수나 상수에 초깃값을 저장하는 것을 말하며, 재할당은 변수의 값을 바꾸는 것을 말한다.\"\"\""
   ],
   "metadata": {
    "collapsed": false
   }
  },
  {
   "cell_type": "code",
   "execution_count": null,
   "outputs": [],
   "source": [
    "/*\n",
    "식별자(identifier): 변수, 함수, 클래스 등을 이름으로 구별해서 참조하는 모든 것을 말한다.\n",
    "그래서 이름을 중복되지 않게 지정해야 식별자를 찾을 때 충돌되지 않는다.\n",
    "\n",
    "카멜 표기법 : camelNotaion\n",
    "파스칼 표기법 : 클래스, object, 인터페이스 작성시 ClassName\n",
    "팟홀 표기법/스네이크 표기법 : pothole_snake\n",
    "*/"
   ],
   "metadata": {
    "collapsed": false
   }
  },
  {
   "cell_type": "code",
   "execution_count": null,
   "outputs": [],
   "source": [],
   "metadata": {
    "collapsed": false
   }
  },
  {
   "cell_type": "code",
   "execution_count": null,
   "outputs": [],
   "source": [
    "/*\n",
    "지역변수 전역변수\n",
    "\n",
    "코틀린은 패키지 단위로 관리하므로 파일에 변수를 정의하면 전역변수로 인식한다.\n",
    "지역변수는 함수 내부나 코드 블록에 사용하는 문장에 정의한 변수이다.\n",
    "\n",
    "전역변수와 지역변수는 자신이 정의된 영역 내에서 참조할 수 있다.\n",
    "\n",
    "- 지역변수 : 함수 코드 블록인 중괄호 {} 사이에 정의해서 사용하는 변수이다. 지역변수는 외부에서 참조할 수 없다.\n",
    "            다만 클로저환경 구성시에만 외부에서 접근할 수 있다.\n",
    "- 전역변수 : 지역변수 이외에서 정의된 변수이다. 코틀린에서는 보통 패키지 단위에 정의된 최상위 변수가 전역변수이다. 동일한 패키지에서 함수 등에서 항상 참조할 수 있다.\n",
    "*/\n"
   ],
   "metadata": {
    "collapsed": false
   }
  },
  {
   "cell_type": "code",
   "execution_count": 4,
   "outputs": [
    {
     "name": "stdout",
     "output_type": "stream",
     "text": [
      "100\r\n"
     ]
    }
   ],
   "source": [
    "val abc123 = 100\n",
    "val _abc123 = 100\n",
    "//val 123abc_ = 200 // 변수명은 첫 글자에 숫자 불가\n",
    "\n",
    "object Const {      // 상수정의\n",
    "    const val CONST = 100\n",
    "}\n",
    "\n",
    "println(Const.CONST)"
   ],
   "metadata": {
    "collapsed": false
   }
  },
  {
   "cell_type": "code",
   "execution_count": 5,
   "outputs": [],
   "source": [],
   "metadata": {
    "collapsed": false
   }
  },
  {
   "cell_type": "code",
   "execution_count": 7,
   "outputs": [],
   "source": [
    "/*\n",
    "변수 정의\n",
    "\n",
    "- 변수를 정의할 때는 var나 val 예약어를 사용한다.\n",
    "- 한번만 할당할 수 있으면 val 사용, 지속해서 변경할 필요가 있으면 var로 정의한다.\n",
    "- 자료형으로 지정하지 않으면 처음 할당된 값을 보고 자료형을 확정한다. 두번째 할당될 경우 같은 자료형이 아니면 예외를 발생시킨다. => 타입추론\n",
    "- 변수에 자료형을 지정할 때는 변수명 다음에 콜론(:)을 쓰고 자료형을 지정한다. 그 다음에 할당연산자를 사용해 초깃값을 할당한다.\n",
    "*/"
   ],
   "metadata": {
    "collapsed": false
   }
  },
  {
   "cell_type": "code",
   "execution_count": 11,
   "outputs": [
    {
     "name": "stdout",
     "output_type": "stream",
     "text": [
      "초기값\r\n"
     ]
    }
   ],
   "source": [
    "\n",
    "val 불변변수 = \"불변변수\"\n",
    "var 가변변수 = \"가변변수\"\n",
    "\n",
    "val 변수정의 : String = \"초기값\"\n",
    "println(변수정의)\n",
    "\n",
    "//변수정의 = \"val변수는 재할당 금지\" //Val cannot be reassigned"
   ],
   "metadata": {
    "collapsed": false
   }
  },
  {
   "cell_type": "code",
   "execution_count": null,
   "outputs": [],
   "source": [],
   "metadata": {
    "collapsed": false
   }
  },
  {
   "cell_type": "code",
   "execution_count": null,
   "outputs": [],
   "source": [
    "\"\"\"\n",
    "\n",
    "동적 타입 언어 (Dynamic Typing):\n",
    "\n",
    "변수의 자료형은 런타임(runtime) 중에 결정됩니다. 즉, 변수를 선언할 때 명시적으로 자료형을 지정하지 않아도 됩니다.\n",
    "변수의 자료형은 변수에 할당된 값에 따라 동적으로 결정됩니다. 이것은 유연성을 제공하지만, 타입 에러가 런타임 중에 발생할 수 있습니다.\n",
    "대표적인 동적 타입 언어로는 Python, JavaScript, Ruby, PHP 등이 있습니다.\n",
    "정적 타입 언어 (Static Typing):\n",
    "\n",
    "변수의 자료형은 변수를 선언할 때 명시적으로 지정되어야 합니다. 즉, 컴파일 타임에 변수의 자료형이 정의됩니다.\n",
    "변수는 선언된 자료형에 부합하는 값만을 저장할 수 있으며, 변수의 자료형은 변경되지 않습니다. 이로 인해 컴파일 타임에 타입 에러를 미리 검출할 수 있습니다.\n",
    "대표적인 정적 타입 언어로는 Java, C++, C#, Swift 등이 있습니다.\n",
    "타입 추론 (Type Inference):\n",
    "\n",
    "타입 추론은 주로 정적 타입 언어에서 사용되는 개념으로, 변수의 자료형을 개발자가 명시적으로 지정하지 않아도 컴파일러가 변수가 어떤 자료형을 가져야 하는지를 유추(infer)합니다.\n",
    "타입 추론을 통해 코드는 간결해지고 가독성이 향상될 수 있으며, 동시에 정적 타입 검사의 이점을 얻을 수 있습니다.\n",
    "예를 들어, TypeScript와 Kotlin과 같은 언어는 타입 추론을 사용하여 정적 타입 언어에서도 변수의 자료형을 더 편하게 다룰 수 있게 합니다.\n",
    "요약하면, 동적 타입 언어는 런타임 중에 변수의 자료형이 결정되고, 정적 타입 언어는 컴파일 타임에 변수의 자료형이 결정됩니다. 타입 추론은 정적 타입 언어에서 변수의 자료형을 더 편하게 다루기 위한 방법 중 하나입니다.\n",
    "\n",
    "\"\"\""
   ],
   "metadata": {
    "collapsed": false
   }
  },
  {
   "cell_type": "code",
   "execution_count": null,
   "outputs": [],
   "source": [],
   "metadata": {
    "collapsed": false
   }
  },
  {
   "cell_type": "code",
   "execution_count": 19,
   "outputs": [
    {
     "name": "stdout",
     "output_type": "stream",
     "text": [
      "1\r\n",
      "for 지역변수 : 100\r\n",
      "for 지역변수 : 100\r\n",
      "2\r\n",
      "for 지역변수 : 100\r\n",
      "for 지역변수 : 100\r\n"
     ]
    }
   ],
   "source": [
    "/*\n",
    "지역변수\n",
    "\n",
    "함수 내부나 for 순환 내부의 코드 블록 내에 변수를 정의할 수 있다. 이런 코드블록은 지역영역이다.\n",
    "이 지역영역에 정의한 변수가 지역변수이다. 지역영역에 정의된 변수의 특징은 항상 코드 블록 내부에서만 사용할 수 있고 외부에서는 접근할 수 없다.\n",
    "*/\n",
    "\n",
    "for (i in 1..2) {\n",
    "    val localVal = 100\n",
    "    println(\"$i\")\n",
    "    println(\"for 지역변수 : \" + localVal)\n",
    "    println(\"for 지역변수 : $localVal\")\n",
    "}"
   ],
   "metadata": {
    "collapsed": false
   }
  },
  {
   "cell_type": "code",
   "execution_count": null,
   "outputs": [],
   "source": [],
   "metadata": {
    "collapsed": false
   }
  },
  {
   "cell_type": "code",
   "execution_count": 24,
   "outputs": [
    {
     "name": "stdout",
     "output_type": "stream",
     "text": [
      " 지역변수 100\r\n",
      " 전역변수 글로벌 변수\r\n"
     ]
    }
   ],
   "source": [
    "/*\n",
    "전역변수\n",
    "\n",
    "보통 파일에 정의된 변수를 정수를 전역변수 라고 한다.\n",
    "*/\n",
    "val globallevel = \"글로벌 변수\"\n",
    "\n",
    "fun funcGlobal() {\n",
    "    val locallevel : Int\n",
    "    locallevel = 100\n",
    "    println(\" 지역변수 $locallevel\")\n",
    "    println(\" 전역변수 $globallevel\")\n",
    "}\n",
    "\n",
    "funcGlobal()"
   ],
   "metadata": {
    "collapsed": false
   }
  },
  {
   "cell_type": "code",
   "execution_count": null,
   "outputs": [],
   "source": [],
   "metadata": {
    "collapsed": false
   }
  },
  {
   "cell_type": "code",
   "execution_count": null,
   "outputs": [],
   "source": [],
   "metadata": {
    "collapsed": false
   }
  },
  {
   "cell_type": "code",
   "execution_count": null,
   "outputs": [],
   "source": [
    "/*속성\n",
    "\n",
    "코틀린은 변수를 정의하지만 이 변수에 해당하는 메서드를 가진 속성으로 사용한다.\n",
    "\n",
    "변수와 속성의 차이점\n",
    "- 코틀린에서는 지역변수를 제외하고 모두 속성이다. 왜냐하면, 실제 변수를 정의하면 게터와 세터 즉 변수를 참조하는 메서드를 내부적으로 제공한다. 변수 이름으로 참조하면 메서드가 실행된다.\n",
    "- 보통 속성은 클래스나 object 내부에 구현되며 객체가 만들어질 때 객체 영역에서 사용하는 상태를 만든다. 실제 객체가 만들어질 때 메서드는 메모리영역에 만들지 않고 점연산자로 클래스에 있는 메서드를 참조해서 사용한다.*/"
   ],
   "metadata": {
    "collapsed": false
   }
  },
  {
   "cell_type": "code",
   "execution_count": null,
   "outputs": [],
   "source": [],
   "metadata": {
    "collapsed": false
   }
  },
  {
   "cell_type": "code",
   "execution_count": null,
   "outputs": [],
   "source": [],
   "metadata": {
    "collapsed": false
   }
  },
  {
   "cell_type": "code",
   "execution_count": null,
   "outputs": [],
   "source": [],
   "metadata": {
    "collapsed": false
   }
  },
  {
   "cell_type": "code",
   "execution_count": null,
   "outputs": [],
   "source": [],
   "metadata": {
    "collapsed": false
   }
  },
  {
   "cell_type": "code",
   "execution_count": null,
   "outputs": [],
   "source": [],
   "metadata": {
    "collapsed": false
   }
  },
  {
   "cell_type": "code",
   "execution_count": null,
   "outputs": [],
   "source": [],
   "metadata": {
    "collapsed": false
   }
  },
  {
   "cell_type": "code",
   "execution_count": null,
   "outputs": [],
   "source": [],
   "metadata": {
    "collapsed": false
   }
  },
  {
   "cell_type": "code",
   "execution_count": null,
   "outputs": [],
   "source": [],
   "metadata": {
    "collapsed": false
   }
  },
  {
   "cell_type": "code",
   "execution_count": null,
   "outputs": [],
   "source": [],
   "metadata": {
    "collapsed": false
   }
  },
  {
   "cell_type": "code",
   "execution_count": null,
   "outputs": [],
   "source": [],
   "metadata": {
    "collapsed": false
   }
  }
 ],
 "metadata": {
  "kernelspec": {
   "display_name": "Kotlin",
   "language": "kotlin",
   "name": "kotlin"
  },
  "language_info": {
   "name": "kotlin",
   "version": "1.8.0-dev-3517",
   "mimetype": "text/x-kotlin",
   "file_extension": ".kt",
   "pygments_lexer": "kotlin",
   "codemirror_mode": "text/x-kotlin",
   "nbconvert_exporter": ""
  }
 },
 "nbformat": 4,
 "nbformat_minor": 0
}
