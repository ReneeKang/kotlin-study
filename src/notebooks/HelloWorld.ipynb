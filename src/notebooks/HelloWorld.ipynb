{
 "cells": [
  {
   "cell_type": "code",
   "execution_count": 5,
   "metadata": {
    "collapsed": true
   },
   "outputs": [],
   "source": [
    "fun main(){ //코틀린 프로그램의 '진입점'을 뜻함 프로그램 실행시 main()이 자동으로 호출됨.\n",
    "\n",
    "}\n",
    "main()"
   ]
  },
  {
   "cell_type": "code",
   "execution_count": 17,
   "outputs": [
    {
     "name": "stdout",
     "output_type": "stream",
     "text": [
      "Hello, world!\r\n"
     ]
    }
   ],
   "source": [
    "fun main() {\n",
    "    println(\"Hello, world!\") //코틀린은 끝에 세미콜론(;)을 붙이지 않아도 된다.\n",
    "}\n",
    "main()"
   ],
   "metadata": {
    "collapsed": false
   }
  },
  {
   "cell_type": "code",
   "execution_count": 9,
   "outputs": [
    {
     "name": "stdout",
     "output_type": "stream",
     "text": [
      "11\r\n",
      "1.4\r\n",
      "Twas Brilling\r\n"
     ]
    }
   ],
   "source": [
    "fun main() {\n",
    "    var whole = 11  //var변수는 가변 - 저장된 값이 달라질 수 있다.\n",
    "    var fractional = 1.4\n",
    "    var words = \"Twas Brilling\"\n",
    "\n",
    "    println(whole) //println()은 인자로 아무 값이나 받을 수 있다.\n",
    "    println(fractional)\n",
    "    println(words)\n",
    "}\n",
    "main()"
   ],
   "metadata": {
    "collapsed": false
   }
  },
  {
   "cell_type": "code",
   "execution_count": 14,
   "outputs": [
    {
     "name": "stdout",
     "output_type": "stream",
     "text": [
      "6\r\n"
     ]
    }
   ],
   "source": [
    "fun main() {\n",
    "    var sum = 1\n",
    "    sum = sum + 2\n",
    "    sum += 3\n",
    "    println(sum)\n",
    "}\n",
    "main()"
   ],
   "metadata": {
    "collapsed": false
   }
  },
  {
   "cell_type": "code",
   "execution_count": 25,
   "outputs": [
    {
     "name": "stdout",
     "output_type": "stream",
     "text": [
      "11\r\n",
      "1.4\r\n",
      "11\r\n"
     ]
    }
   ],
   "source": [
    "fun main() {\n",
    "    val whole = 11\n",
    "    //whole = 15 //오류\n",
    "    /*\n",
    "    * Line_24.jupyter-kts (5:5 - 10) Val cannot be reassigned\n",
    "    * Line_24.jupyter-kts (7:9 - 14) Variable 'words' is never used\n",
    "    */\n",
    "    val fractional = 1.4\n",
    "    val words = \"Twas Brilling\"\n",
    "\n",
    "    println(whole)\n",
    "    println(fractional)\n",
    "    println(whole)\n",
    "}\n",
    "main()"
   ],
   "metadata": {
    "collapsed": false
   }
  },
  {
   "cell_type": "code",
   "execution_count": 16,
   "outputs": [],
   "source": [],
   "metadata": {
    "collapsed": false
   }
  },
  {
   "cell_type": "code",
   "execution_count": 12,
   "outputs": [],
   "source": [],
   "metadata": {
    "collapsed": false
   }
  }
 ],
 "metadata": {
  "kernelspec": {
   "display_name": "Kotlin",
   "language": "kotlin",
   "name": "kotlin"
  },
  "language_info": {
   "name": "kotlin",
   "version": "1.8.0-dev-3517",
   "mimetype": "text/x-kotlin",
   "file_extension": ".kt",
   "pygments_lexer": "kotlin",
   "codemirror_mode": "text/x-kotlin",
   "nbconvert_exporter": ""
  }
 },
 "nbformat": 4,
 "nbformat_minor": 0
}
