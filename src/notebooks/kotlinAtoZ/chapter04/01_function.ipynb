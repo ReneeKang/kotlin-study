{
 "cells": [
  {
   "cell_type": "code",
   "execution_count": null,
   "metadata": {
    "collapsed": true
   },
   "outputs": [],
   "source": [
    "/*\n",
    "함수\n",
    "\n",
    "절차적으로 작성한 코드 블록을 서브루틴(subroutine)이라는 명칭으로 사용했다.\n",
    "함수형 프로그래밍 기법이 도입되면서 서브루틴이 완전히 함수(Function)로 변환되었다.\n",
    "\n",
    "함수는 재사용하는 가장 작은 단위의 구성요소이다.\n",
    "객체지향 프로그래밍 기법이 도입되면서 모든것을 객체로 관리하므로\n",
    "이제 함수도 1급 객체로 처리된다.\n",
    "즉, 함수도 정수처럼 변수, 매개변수, 반환값 등에 사용할 수 있다는 뜻이다.\n",
    "\n",
    "함수를 작성해 바로 사용할 수 있는 익명함수와 람다표현식 에 대해서 알아본다.\n",
    "*/\n"
   ]
  },
  {
   "cell_type": "code",
   "execution_count": null,
   "outputs": [],
   "source": [],
   "metadata": {
    "collapsed": false
   }
  },
  {
   "cell_type": "code",
   "execution_count": null,
   "outputs": [],
   "source": [
    "/*\n",
    "함수\n",
    "1) 함수를 정의\n",
    "2) 필요할 때 호출\n",
    "함수를 정의할 때 함수의 입력값인 매개변수, 함수의 출력값인 반환 자료형, 실제 함수의 기능을 처리하는 코드 블록 등을 잘 정의해야 한다.\n",
    "*/\n",
    "\n",
    "/*\n",
    "함수정의\n",
    "함수 = 머리부 + 몸체부\n",
    "함수를 정의한 후 호출하려면 함수 이름 등으로 함수를 식별 해야한다.\n",
    "-> 메모리에 올라간 함수를 참조해서 가져와야 함수 실행 가능\n",
    "\n",
    "함수 호출할 때 함수의 식별기준은 시그니처인 함수이름과 매개변수 개수에 맞게 자료형과 반환 자료형으로 구성한 머리부이다.\n",
    "실제 실행되는 영역은 코드 블록인 몸체부이다.\n",
    "- 함수 머리부\n",
    "    - 매개변수 정의 : 함수 내부에서 변수로 사용되는 것을 정의한다. 매개변수는 곧 함수내의 지역변수이다.\n",
    "    - 함수의 결과 표시: 함수 반환 자료형을 매개변수 다음에 콜론(:)후에 작성한다. 실제 몸체부가 실행되면 이 자료형의 객체로 반환값을 처리한다.\n",
    "- 함수 몸체부\n",
    "    - 지역변수 : 함수 내부에 정의되는 변수. 함수가 실행될 때 생겼다가 함수가 종료되면 사라진다.\n",
    "    - 반환값 처리 : 함수결과 반환시 최종 처리결과를 return 다음에 처리. 실제 반환값이 없다는 Unit자체도 반환된 값의 자료형이다.\n",
    "- 함수 몸체부 내에 정의할 수 있는 대상\n",
    "    - 지역 함수\n",
    "    - 지역 클래스\n",
    "    - object는 정의할 수 없지만, 객체만들때는 object표현식으로 정의해서 객체 사용 가능하다.\n",
    "    */"
   ],
   "metadata": {
    "collapsed": false
   }
  },
  {
   "cell_type": "code",
   "execution_count": 2,
   "outputs": [
    {
     "name": "stdout",
     "output_type": "stream",
     "text": [
      "100 300\r\n",
      "(함수, 호출)\r\n"
     ]
    }
   ],
   "source": [
    "fun 함수명(매개변수명1:String, 매개변수명2:String) :\n",
    "                                Pair<String, String> {\n",
    "    val 지역변수1 = 100\n",
    "    val 지역변수2 = 300\n",
    "\n",
    "    fun 지역함수명(매개변수명:String) : String {\n",
    "        return \"매개변수명\"\n",
    "    }\n",
    "\n",
    "    class 지역클래스명 {}\n",
    "\n",
    "    //object 지역오브젝트{}\n",
    "\n",
    "    println(\"$지역변수1 $지역변수2\")\n",
    "\n",
    "    return Pair(매개변수명1, 매개변수명2)\n",
    "}\n",
    "\n",
    "val 결과값 = 함수명(\"함수\", \"호출\")\n",
    "println(결과값)\n"
   ],
   "metadata": {
    "collapsed": false
   }
  },
  {
   "cell_type": "code",
   "execution_count": 4,
   "outputs": [
    {
     "name": "stdout",
     "output_type": "stream",
     "text": [
      "특정처리 기능이 없음\r\n",
      "반환값 생략 가능\r\n"
     ]
    }
   ],
   "source": [
    "//반환값잎 없는 함수 정의와 실행\n",
    "//함수를 호출하면 실행된 결과를 반드시 반환한다.\n",
    "//반환값이 없을 경우에도 보통 반환 자료형을 지정해야 한다. 이 때 아무것도 처리하지 않는 Unit자료혀을 지정한다.\n",
    "fun func() : Unit {\n",
    "    println(\"특정처리 기능이 없음\")\n",
    "}\n",
    "func()\n",
    "\n",
    "fun funcNoReturn() {\n",
    "    println(\"반환값 생략 가능\")\n",
    "}\n",
    "funcNoReturn()"
   ],
   "metadata": {
    "collapsed": false
   }
  },
  {
   "cell_type": "code",
   "execution_count": null,
   "outputs": [],
   "source": [],
   "metadata": {
    "collapsed": false
   }
  },
  {
   "cell_type": "code",
   "execution_count": 8,
   "outputs": [
    {
     "name": "stdout",
     "output_type": "stream",
     "text": [
      "30\r\n",
      "30\r\n",
      "30\r\n"
     ]
    }
   ],
   "source": [
    "//함수 몸체부\n",
    "\n",
    "//1. 단일 표현식으로 대체\n",
    "fun add(x:Int, y:Int):Int {\n",
    "    return x + y\n",
    "}\n",
    "\n",
    "fun add1(x:Int, y:Int):Int = x + y   //코드블록 대신 = 과 표현식으로 표시\n",
    "\n",
    "fun add2(x:Int, y:Int) = x + y      //계산 결과가 반환 자료형을 추론할 수 있다.\n",
    "                                    //반환 자료형을 생략한다.\n",
    "\n",
    "println(add(10,20))\n",
    "println(add1(10,20))\n",
    "println(add2(10,20))"
   ],
   "metadata": {
    "collapsed": false
   }
  },
  {
   "cell_type": "code",
   "execution_count": 11,
   "outputs": [
    {
     "name": "stdout",
     "output_type": "stream",
     "text": [
      "20\r\n",
      "Hello World\r\n"
     ]
    }
   ],
   "source": [
    "//2. 복잡한 단일 표현식(조건문, object표현식 등은 하나의 표현식으로 작성할 수 있다.)\n",
    "fun comSingle(x:Int, y:Int) = if(x > y) x else y\n",
    "val r = comSingle(20, 10)\n",
    "println(r)\n",
    "\n",
    "open class People {                     //클래스 정의\n",
    "    fun hello() = println(\"Hello World\")//메서드 정의\n",
    "}\n",
    "fun comSingle1() = object : People() {  //People을 상속한 익명 객체 반환\n",
    "    //object표현식은 복잡하게 작성되지만 하나의 결과인 객체를 만드므로 단일 표현식으로 작성할 수 있다.\n",
    "}\n",
    "\n",
    "val p = comSingle1()\n",
    "p.hello()"
   ],
   "metadata": {
    "collapsed": false
   }
  },
  {
   "cell_type": "code",
   "execution_count": null,
   "outputs": [],
   "source": [
    "/*\n",
    "함수의 매개변수와 인자\n",
    "- 위치인자\n",
    "- 이름인자\n",
    "- 가변인자 : 인자갯수가 미정일때 가변인자 사용. 매개변수 이름 앞에 vararg예약어 사용. 배열로 처리한다.\n",
    "- 매개변수 초깃값 : 인자에 값을 할당하지 않으면 바로 초깃값으로 인자의 값 대치 가능\n",
    "*/\n"
   ],
   "metadata": {
    "collapsed": false
   }
  },
  {
   "cell_type": "code",
   "execution_count": 14,
   "outputs": [
    {
     "name": "stdout",
     "output_type": "stream",
     "text": [
      "가변인자0 = 0\r\n",
      "가변인자4 = 10\r\n",
      "가변인자6 = 21\r\n",
      "스프레드 연산 사용 = 10\r\n"
     ]
    }
   ],
   "source": [
    "//가변인자 지정\n",
    "fun addVarArg(vararg x : Int) : Int {\n",
    "    var result = 0\n",
    "    for (i in x) {\n",
    "        result += i\n",
    "    }\n",
    "    return result\n",
    "}\n",
    "\n",
    "println(\"가변인자0 = \" + addVarArg())\n",
    "println(\"가변인자4 = \" + addVarArg(1, 2, 3, 4))\n",
    "println(\"가변인자6 = \" + addVarArg(1, 2, 3, 4, 5, 6))\n",
    "\n",
    "val ll = intArrayOf(1, 2, 3, 4)\n",
    "println(\"스프레드 연산 사용 = \" + addVarArg(*ll))"
   ],
   "metadata": {
    "collapsed": false
   }
  },
  {
   "cell_type": "code",
   "execution_count": null,
   "outputs": [],
   "source": [],
   "metadata": {
    "collapsed": false
   }
  },
  {
   "cell_type": "code",
   "execution_count": 15,
   "outputs": [
    {
     "name": "stdout",
     "output_type": "stream",
     "text": [
      "지역 변수의 합 = 300\r\n"
     ]
    }
   ],
   "source": [
    "/*\n",
    "지역변수, 지역함수와 변수 스코프\n",
    "\n",
    "함수 내부에 내포된 변수, 함수, 클래스 정의\n",
    "- 지역변수 : 함수 내부에서만 사용할 수 있는 변수. 초깃값 지정하지 않고 정의해도 컴파일 에러는 발생하지 않는다. 하지만 지역변수 사용시 반드시 초기화 해야한다.\n",
    "- 지역함수 : 함수 내부에서만 사용할 때 지정한다. 보통 클로저 환경 구성하거나 세부기능 분리해서 처리할 때 사용한다.\n",
    "- 지역 클래스 : 함수 내부에서 클래스를 활용해서 사용할 때 정의할 수 있다. 보통 함수 기능이 커지면 클래스로 변환하여 정의해서 사용하므로 실제 사용할 일은 별로 없다.\n",
    "\n",
    "지역변수 정의\n",
    "함수 매개변수와 함수 코드 블록 내부에 정의한 변수는 지역변수 이다.\n",
    "*/\n",
    "fun localVar() : Int {\n",
    "    val x : Int = 100\n",
    "    val y : Int = 200\n",
    "    return x + y\n",
    "}\n",
    "println(\"지역 변수의 합 = \" + localVar())"
   ],
   "metadata": {
    "collapsed": false
   }
  },
  {
   "cell_type": "code",
   "execution_count": 16,
   "outputs": [
    {
     "name": "stdout",
     "output_type": "stream",
     "text": [
      "지역함수 실행 = 200\r\n"
     ]
    }
   ],
   "source": [
    "/*\n",
    "지역함수 정의\n",
    "함수 내부에 지역함수 정의. 지역함수 내부에 또 지역함수를 만들 수 있다. 이는 함수도 계층구조를 구성할 수 있다는 것이다.\n",
    "*/\n",
    "fun outerFunc(x:Int) : Int {\n",
    "    val y = 100\n",
    "    fun localFunc() = x + y\n",
    "    return localFunc()\n",
    "}\n",
    "println(\"지역함수 실행 = \" + outerFunc(100))"
   ],
   "metadata": {
    "collapsed": false
   }
  },
  {
   "cell_type": "code",
   "execution_count": null,
   "outputs": [],
   "source": [
    "변수 스코프\n",
    "패키지, 함수 등은 내부에서 변수를 정의할 때 변수를 관리하는 영역인 변수 스코프가 생긴다.\n",
    "이런 영역을 관리하는 방법\n",
    "- 전역함수 : 패키지 레벨에 정의된 함수. 우리가 말하는 함수 대부분 전역함수이다.\n",
    "- 지역함수 : 전역함수 내부에 정의된 함수.\n",
    "- 지역함수 내의 지역함수\n",
    "- 렉시컬 스코프 : 함수가 계층구조로 정의되면 현재 지역 영역에 없는 변수를 상위 레벨에서 검색해서 사용하는 것을 말한다."
   ],
   "metadata": {
    "collapsed": false
   }
  },
  {
   "cell_type": "code",
   "execution_count": 23,
   "outputs": [
    {
     "name": "stdout",
     "output_type": "stream",
     "text": [
      "[1, 2, 3, 4]\r\n",
      "false\r\n",
      "[1, 2, 3, 4]\r\n",
      "[1, 2, 3, 4, 5]\r\n",
      "false\r\n"
     ]
    }
   ],
   "source": [
    "/*함수 인자 전달 시 주의할 점\n",
    "변경 가능한 객체와 변경 불가능한 객체\n",
    "변경 가능한 객체(mutable object) : 내부 원소 삽입, 삭제, 변경 가능한 객체.\n",
    "변경 불가능한 객체(immutable object) : 객체로 만들어지면 내부의 원소를 변경할 수 없는 객체. 대신 새로운 객체로 만들 수는 있다.\n",
    "- listOf 함수로 만들어진 리스트 객체는 변경 불가\n",
    "- mutableListOf 함수로 변경가능한 리스트를 만들어 함수에 전달\n",
    "\n",
    "- 변경 가능한 인자를 복사해서 전달*/\n",
    "val mlc = mutableListOf(1,2,3,4)\n",
    "println(mlc)\n",
    "\n",
    "fun addList1(ml : MutableList<Int>) : MutableList<Int> {\n",
    "    ml.add(5)\n",
    "    return ml\n",
    "}\n",
    "\n",
    "val ml2 = addList1(mlc.toList().toMutableList())\n",
    "println(mlc == ml2)\n",
    "println(mlc)\n",
    "println(ml2)\n",
    "println(mlc == ml2)"
   ],
   "metadata": {
    "collapsed": false
   }
  },
  {
   "cell_type": "code",
   "execution_count": null,
   "outputs": [],
   "source": [],
   "metadata": {
    "collapsed": false
   }
  }
 ],
 "metadata": {
  "kernelspec": {
   "display_name": "Kotlin",
   "language": "kotlin",
   "name": "kotlin"
  },
  "language_info": {
   "name": "kotlin",
   "version": "1.8.0-dev-3517",
   "mimetype": "text/x-kotlin",
   "file_extension": ".kt",
   "pygments_lexer": "kotlin",
   "codemirror_mode": "text/x-kotlin",
   "nbconvert_exporter": ""
  }
 },
 "nbformat": 4,
 "nbformat_minor": 0
}
