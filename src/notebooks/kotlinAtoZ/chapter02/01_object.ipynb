{
 "cells": [
  {
   "cell_type": "code",
   "execution_count": 21,
   "metadata": {
    "collapsed": true
   },
   "outputs": [],
   "source": [
    "// 객체\n",
    "// 코틀린에서는 모든 것을 객체로 본다. 컴파일 처리할 때까지 모든 객체에는 해당 클래스가 있다.\n",
    "// 하지만 내부적으로 JVM으로 실행될때는 자바와 동일하게 프리미티브를 사용해서 처리한다."
   ]
  },
  {
   "cell_type": "code",
   "execution_count": 22,
   "outputs": [
    {
     "name": "stdout",
     "output_type": "stream",
     "text": [
      "class java.lang.String\r\n",
      "int\r\n"
     ]
    }
   ],
   "source": [
    "// 코틀린은 모든것을 객체로 처리하기 때문에 각 객체에 해당하는 클래스를 갖고있다.\n",
    "\n",
    "// 자바 클래스를 확인하는 속성\n",
    "println( \"Hello\".javaClass )\n",
    "println( (100).javaClass )"
   ],
   "metadata": {
    "collapsed": false
   }
  },
  {
   "cell_type": "code",
   "execution_count": 23,
   "outputs": [
    {
     "name": "stdout",
     "output_type": "stream",
     "text": [
      "class kotlin.String\r\n",
      "class kotlin.Int\r\n"
     ]
    }
   ],
   "source": [
    "// 코틀린 클래스를 확인하는 속성\n",
    "println( \"Hello\".javaClass.kotlin )\n",
    "println( (100).javaClass.kotlin )"
   ],
   "metadata": {
    "collapsed": false
   }
  },
  {
   "cell_type": "code",
   "execution_count": 24,
   "outputs": [],
   "source": [],
   "metadata": {
    "collapsed": false
   }
  },
  {
   "cell_type": "code",
   "execution_count": 25,
   "outputs": [],
   "source": [
    "// 클래스\n",
    "// 클래스를 정의하고 이 정의된 클래스 내의 생성자를 호출해서 객체를 생성한다."
   ],
   "metadata": {
    "collapsed": false
   }
  },
  {
   "cell_type": "code",
   "execution_count": 26,
   "outputs": [
    {
     "data": {
      "text/plain": "Hello"
     },
     "execution_count": 26,
     "metadata": {},
     "output_type": "execute_result"
    }
   ],
   "source": [
    "// 클래스로 객체를 생성하려면 생성자를 호출해야 한다.\n",
    "// 생성자를 호출하는 방법은 클래스 이름과 호출연산자인 괄호를 사용한다.\n",
    "// 생성된 객체를 재사용하려면 변수에 객체를 할당한다. 그런 다음 객체의 속성이나 메서드는 점연산자로 접근해서 사용한다.\n",
    "\n",
    "class Hello{\n",
    "    val hello = \"Hello\"\n",
    "}\n",
    "\n",
    "val h = Hello()\n",
    "h.hello"
   ],
   "metadata": {
    "collapsed": false
   }
  },
  {
   "cell_type": "code",
   "execution_count": 27,
   "outputs": [
    {
     "data": {
      "text/plain": "class Line_32$Hello"
     },
     "execution_count": 27,
     "metadata": {},
     "output_type": "execute_result"
    }
   ],
   "source": [
    "h.javaClass.kotlin"
   ],
   "metadata": {
    "collapsed": false
   }
  },
  {
   "cell_type": "code",
   "execution_count": null,
   "outputs": [],
   "source": [],
   "metadata": {
    "collapsed": false
   }
  },
  {
   "cell_type": "markdown",
   "source": [],
   "metadata": {
    "collapsed": false
   }
  }
 ],
 "metadata": {
  "kernelspec": {
   "display_name": "Kotlin",
   "language": "kotlin",
   "name": "kotlin"
  },
  "language_info": {
   "name": "kotlin",
   "version": "1.8.0-dev-3517",
   "mimetype": "text/x-kotlin",
   "file_extension": ".kt",
   "pygments_lexer": "kotlin",
   "codemirror_mode": "text/x-kotlin",
   "nbconvert_exporter": ""
  }
 },
 "nbformat": 4,
 "nbformat_minor": 0
}
