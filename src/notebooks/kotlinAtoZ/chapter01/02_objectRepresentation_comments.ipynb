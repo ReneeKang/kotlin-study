{
 "cells": [
  {
   "cell_type": "code",
   "execution_count": 1,
   "metadata": {
    "collapsed": true
   },
   "outputs": [],
   "source": [
    "// 객체 표현과 주석\n",
    "\n",
    "// 프로그램 언어에서 기본으로 제공되는 숫자 표현과 문자열 표현 등은 일반적인 숫자와 문자열을 그대로 사용한다.\n",
    "// 이런 표현을 리터럴 이라고 한다."
   ]
  },
  {
   "cell_type": "code",
   "execution_count": null,
   "outputs": [],
   "source": [],
   "metadata": {
    "collapsed": false
   }
  },
  {
   "cell_type": "code",
   "execution_count": null,
   "outputs": [],
   "source": [
    "//리터럴, 연산자, 표현식"
   ],
   "metadata": {
    "collapsed": false
   }
  },
  {
   "cell_type": "code",
   "execution_count": 5,
   "outputs": [],
   "source": [
    "// 리터럴 :\n",
    "// 하나의 값을 말하며 보통 숫자, 문자, 문자열이다.\n",
    "// 클래스를 만들어 객체로 만든 값은 모두 리터럴이다.\n",
    "// 코틀린에서도 숫자, 문자, 문자열은 객체이다."
   ],
   "metadata": {
    "collapsed": false
   }
  },
  {
   "cell_type": "code",
   "execution_count": 6,
   "outputs": [],
   "source": [
    "// 연산자 :\n",
    "// 두개의 리터럴을 연산할 때 사용하는 도구이다. 보통 기호로 표시하나 코틀린 내부에서는 메서드로 처리한다."
   ],
   "metadata": {
    "collapsed": false
   }
  },
  {
   "cell_type": "code",
   "execution_count": 7,
   "outputs": [],
   "source": [
    "// 표현식 :\n",
    "// 여러 리터럴과 연산자가 연결된 수식이다. 이 수식은 즉시 평가되어 하나의 값으로 변환된다."
   ],
   "metadata": {
    "collapsed": false
   }
  },
  {
   "cell_type": "code",
   "execution_count": 8,
   "outputs": [],
   "source": [
    "// 객체 :\n",
    "// 클래스에 의해 생성되는 모든 것을 말한다. 보통 숫자, 문자열 등은 리터럴 표기법으로 객체를 만들지만,\n",
    "// 사용자가 class 예약어로 정의한 클래스는 리터럴 표기법으로 객체를 표현할 수 없다."
   ],
   "metadata": {
    "collapsed": false
   }
  },
  {
   "cell_type": "code",
   "execution_count": 11,
   "outputs": [],
   "source": [],
   "metadata": {
    "collapsed": false
   }
  },
  {
   "cell_type": "code",
   "execution_count": 31,
   "outputs": [],
   "source": [
    "//리터럴과 표현식 처리\n",
    "\n",
    "//숫자, 문자, 100, \"가\" 등 리터럴 표기법으로 작성하면 객체이면서 값으로 사용한다."
   ],
   "metadata": {
    "collapsed": false
   }
  },
  {
   "cell_type": "code",
   "execution_count": 32,
   "outputs": [],
   "source": [
    "//정수와 실수도 객체이다.\n",
    "\n",
    "//- Byte(1바이트), Short(2바이트), Int(4바이트), Long(8바이트) 클래스로 구분한다.\n",
    "//- 실수는 Float(4바이트), Double(8바이트) 클래스로 구분한다.\n",
    "//- 정수는 기본이 Int 클래스의 객체이다.\n",
    "//- 실수는 기본이 Double 클래스의 객체이다."
   ],
   "metadata": {
    "collapsed": false
   }
  },
  {
   "cell_type": "code",
   "execution_count": 29,
   "outputs": [
    {
     "name": "stdout",
     "output_type": "stream",
     "text": [
      "class kotlin.Int\r\n",
      "class kotlin.Long\r\n",
      "class kotlin.Double\r\n",
      "class kotlin.Float\r\n"
     ]
    }
   ],
   "source": [
    "val intVar = 100\n",
    "val longVar = 100L\n",
    "val doubleVar = 100.0\n",
    "val floatVar = 100.0F\n",
    "\n",
    "println(intVar.javaClass.kotlin)\n",
    "println(longVar.javaClass.kotlin)\n",
    "println(doubleVar.javaClass.kotlin)\n",
    "println(floatVar.javaClass.kotlin)\n"
   ],
   "metadata": {
    "collapsed": false
   }
  },
  {
   "cell_type": "code",
   "execution_count": 36,
   "outputs": [],
   "source": [
    "//문자, 문자열, 논릿값도 객체이다\n",
    "\n",
    "//- 문자는 Char 클래스(2바이트)이다.\n",
    "//- 문자열은 String 클래스이고 문자열의 원소는 문자이다.\n",
    "//- 논릿값인 true(참), false(거짓)는 Boolean 클래스의 객체이다."
   ],
   "metadata": {
    "collapsed": false
   }
  },
  {
   "cell_type": "code",
   "execution_count": 37,
   "outputs": [],
   "source": [],
   "metadata": {
    "collapsed": false
   }
  },
  {
   "cell_type": "code",
   "execution_count": 35,
   "outputs": [
    {
     "name": "stdout",
     "output_type": "stream",
     "text": [
      "class kotlin.Char\r\n",
      "class kotlin.String\r\n",
      "class kotlin.Boolean\r\n"
     ]
    }
   ],
   "source": [
    "//변수에 자료형을 지정하지 않았지만, 실제 각 변수에 할당된 자료형은 리터럴 값으로 자동 지정된다.\n",
    "\n",
    "val charVar = 'a'           //문자리터럴\n",
    "val stringVal = \"string\"    //문자열리터럴\n",
    "val boolVar = true          //불리언리터럴\n",
    "\n",
    "println(charVar.javaClass.kotlin)\n",
    "println(stringVal.javaClass.kotlin)\n",
    "println(boolVar.javaClass.kotlin)\n"
   ],
   "metadata": {
    "collapsed": false
   }
  },
  {
   "cell_type": "code",
   "execution_count": null,
   "outputs": [],
   "source": [],
   "metadata": {
    "collapsed": false
   }
  },
  {
   "cell_type": "code",
   "execution_count": 38,
   "outputs": [],
   "source": [
    "//객체는 메서드로 연산을 수행한다.\n",
    "\n",
    "//- 모든 객체는 상태(속성)와 행위(메서드)를 가진다.\n",
    "//- 정수나 실수도 객체이므로 속성과 메서드를 가지고 있다.\n",
    "//- 보통 숫자 객체는 변경할 수 없는 객체이므로 연산자를 수행하면 새로운 객체를 생성한다."
   ],
   "metadata": {
    "collapsed": false
   }
  },
  {
   "cell_type": "code",
   "execution_count": 39,
   "outputs": [],
   "source": [
    "//메서드 : 클래스 내부에 정의한 함수. 객체가 점연산자로 접근해서 실행할 수 있다.\n",
    "//함수 : 함수이름과 호출연산자로 실행한다.\n",
    "//연산자 : 특정 기호로 표시한다. 연산자를 표기하면 내부에서 해당하는 메서드로 변환해 처리한다."
   ],
   "metadata": {
    "collapsed": false
   }
  },
  {
   "cell_type": "code",
   "execution_count": 41,
   "outputs": [],
   "source": [],
   "metadata": {
    "collapsed": false
   }
  },
  {
   "cell_type": "code",
   "execution_count": 44,
   "outputs": [
    {
     "name": "stdout",
     "output_type": "stream",
     "text": [
      "200\r\n",
      "200\r\n",
      "0\r\n",
      "0\r\n",
      "2\r\n",
      "2\r\n",
      "6\r\n",
      "6\r\n",
      "200\r\n",
      "200\r\n"
     ]
    }
   ],
   "source": [
    "//연산자를 사용한 계산, 메서드를 사용한 연산\n",
    "//연산자 표기법을 사용하면 내부에서는 메서드로 처리한다.\n",
    "println(100 + 100)\n",
    "println(100.plus(100))\n",
    "\n",
    "println(100 - 100)\n",
    "println(100.minus(100))\n",
    "\n",
    "println(200 / 100)\n",
    "println(200.div(100))\n",
    "\n",
    "println(300 % 7)\n",
    "println(300.rem(7))\n",
    "\n",
    "println(10 * 20)\n",
    "println(10.times(20))"
   ],
   "metadata": {
    "collapsed": false
   }
  },
  {
   "cell_type": "code",
   "execution_count": null,
   "outputs": [],
   "source": [],
   "metadata": {
    "collapsed": false
   }
  },
  {
   "cell_type": "code",
   "execution_count": 45,
   "outputs": [],
   "source": [
    "//주석 처리\n",
    "//프로그램을 작성한 코드는 컴파일러나 인터프리터에 의해 실행 파일로 변경된다.\n",
    "//주석은 실행파일로 변환되지 않고 프로그램 작성하는 용도로만 사용된다.\n",
    "\n",
    "// 주석\n",
    "/* 주석 */\n",
    "/**\n",
    "* 문서화 주석\n",
    "*/"
   ],
   "metadata": {
    "collapsed": false
   }
  },
  {
   "cell_type": "code",
   "execution_count": null,
   "outputs": [],
   "source": [],
   "metadata": {
    "collapsed": false
   }
  },
  {
   "cell_type": "code",
   "execution_count": 50,
   "outputs": [
    {
     "name": "stdout",
     "output_type": "stream",
     "text": [
      "class kotlin.Char\r\n",
      "[가, 을]\r\n",
      "가을\r\n"
     ]
    }
   ],
   "source": [
    "//문자열\n",
    "println('가'.javaClass.kotlin)\n",
    "\n",
    "println(charArrayOf('가','을').contentToString()) //배열내부원소 출력\n",
    "\n",
    "val str = String(charArrayOf('가','을')) //문자배열을 문자열로 변환\n",
    "                                         //문자열객체\n",
    "println(str)"
   ],
   "metadata": {
    "collapsed": false
   }
  },
  {
   "cell_type": "code",
   "execution_count": null,
   "outputs": [],
   "source": [],
   "metadata": {
    "collapsed": false
   }
  },
  {
   "cell_type": "code",
   "execution_count": 54,
   "outputs": [
    {
     "name": "stdout",
     "output_type": "stream",
     "text": [
      " 날짜 : 20231027 \r\n",
      " 100 + 200 = 300 \r\n"
     ]
    }
   ],
   "source": [
    "//문자열 템플릿\n",
    "\n",
    "//문자열 템플릿을 사용해 기존에 정의된 변수나 표현식을 쉽게 활용해 출력할 수 있다.\n",
    "//변수 삽입시 $변수명\n",
    "//표현식 삽입시 ${표현식}\n",
    "\n",
    "val date = \"20231027\"\n",
    "val a = 100\n",
    "val b = 200\n",
    "\n",
    "println(\" 날짜 : $date \")\n",
    "println(\" 100 + 200 = ${a + b} \")"
   ],
   "metadata": {
    "collapsed": false
   }
  },
  {
   "cell_type": "code",
   "execution_count": 53,
   "outputs": [],
   "source": [],
   "metadata": {
    "collapsed": false
   }
  },
  {
   "cell_type": "code",
   "execution_count": 60,
   "outputs": [
    {
     "name": "stdout",
     "output_type": "stream",
     "text": [
      " 문자열에 \n",
      "이스케이프 문자를 넣고 처리 \r\n"
     ]
    }
   ],
   "source": [
    "//이스케이프 문자\n",
    "\n",
    "//문자열 작성시 문자열 내부에 정보를 제공하는 이스케이프 문자가 있다.\n",
    "//문자열에 이스케이프 문자를 삽입하면 출력할 때 이스케이프 문자에 따라 실행한다.\n",
    "\n",
    "println( \" 문자열에 \\n이스케이프 문자를 넣고 처리 \")"
   ],
   "metadata": {
    "collapsed": false
   }
  },
  {
   "cell_type": "code",
   "execution_count": null,
   "outputs": [],
   "source": [],
   "metadata": {
    "collapsed": false
   }
  },
  {
   "cell_type": "code",
   "execution_count": 63,
   "outputs": [
    {
     "name": "stdout",
     "output_type": "stream",
     "text": [
      " 문자열에 \\n 이스케이프 문자를 넣고 처리\r\n",
      " 문자열 템플릿 기능은 300\r\n"
     ]
    }
   ],
   "source": [
    "//Raw 문자열 처리\n",
    "//원시문자열은 큰따옴표 3개를 사용한다.\n",
    "val s1 = \"\"\" 문자열에 \\n 이스케이프 문자를 넣고 처리\"\"\"\n",
    "println(\"$s1\")\n",
    "\n",
    "val s2 = \"\"\" 문자열 템플릿 기능은 ${100 +200}\"\"\"\n",
    "println(\"$s2\")"
   ],
   "metadata": {
    "collapsed": false
   }
  },
  {
   "cell_type": "code",
   "execution_count": null,
   "outputs": [],
   "source": [],
   "metadata": {
    "collapsed": false
   }
  },
  {
   "cell_type": "code",
   "execution_count": 65,
   "outputs": [
    {
     "name": "stdout",
     "output_type": "stream",
     "text": [
      " float = 1234.50 int =    100 string =        문자열\r\n",
      " edec = 1.000000e+16 hex = ffff \r\n"
     ]
    }
   ],
   "source": [
    "val float = 1234.5\n",
    "val int = 100\n",
    "val string = \"문자열\"\n",
    "val edec = 10e15\n",
    "val hex = 0xffff\n",
    "\n",
    "println(\" float = %6.2f int = %6d string = %10s\"\n",
    "        .format(float, int, string))\n",
    "println(\" edec = %e hex = %x \".format(edec, hex))"
   ],
   "metadata": {
    "collapsed": false
   }
  },
  {
   "cell_type": "code",
   "execution_count": null,
   "outputs": [],
   "source": [],
   "metadata": {
    "collapsed": false
   }
  }
 ],
 "metadata": {
  "kernelspec": {
   "display_name": "Kotlin",
   "language": "kotlin",
   "name": "kotlin"
  },
  "language_info": {
   "name": "kotlin",
   "version": "1.8.0-dev-3517",
   "mimetype": "text/x-kotlin",
   "file_extension": ".kt",
   "pygments_lexer": "kotlin",
   "codemirror_mode": "text/x-kotlin",
   "nbconvert_exporter": ""
  }
 },
 "nbformat": 4,
 "nbformat_minor": 0
}
