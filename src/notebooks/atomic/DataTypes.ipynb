{
 "cells": [
  {
   "cell_type": "code",
   "execution_count": 6,
   "metadata": {
    "collapsed": true
   },
   "outputs": [
    {
     "name": "stdout",
     "output_type": "stream",
     "text": [
      "11\r\n",
      "1.4\r\n",
      "true\r\n",
      "A value\r\n",
      " Triple quotes let\n",
      "    you have many lines\n",
      "    in your string\r\n"
     ]
    }
   ],
   "source": [
    "val whole: Int = 11 //정수. 소수점 이하 부분이 없다\n",
    "val fractional: Double = 1.4 //소수가 있는 수\n",
    "val trueOrFalse: Boolean = true\n",
    "val words: String = \"A value\"\n",
    "val character: Char = 'z'\n",
    "val lines: String = \"\"\" Triple quotes let\n",
    "    you have many lines\n",
    "    in your string\"\"\" //여러줄 문자열 또는 특수문자가 들어간 경우\n",
    "\n",
    "println(whole)\n",
    "println(fractional)\n",
    "println(trueOrFalse)\n",
    "println(words)\n",
    "println(lines)"
   ]
  },
  {
   "cell_type": "code",
   "execution_count": 20,
   "outputs": [],
   "source": [],
   "metadata": {
    "collapsed": false
   }
  },
  {
   "cell_type": "code",
   "execution_count": 7,
   "outputs": [
    {
     "name": "stdout",
     "output_type": "stream",
     "text": [
      "2.2\r\n"
     ]
    }
   ],
   "source": [
    "val n = 1 + 1.2\n",
    "println(n)"
   ],
   "metadata": {
    "collapsed": false
   }
  },
  {
   "cell_type": "code",
   "execution_count": 23,
   "outputs": [],
   "source": [],
   "metadata": {
    "collapsed": false
   }
  }
 ],
 "metadata": {
  "kernelspec": {
   "display_name": "Kotlin",
   "language": "kotlin",
   "name": "kotlin"
  },
  "language_info": {
   "name": "kotlin",
   "version": "1.8.0-dev-3517",
   "mimetype": "text/x-kotlin",
   "file_extension": ".kt",
   "pygments_lexer": "kotlin",
   "codemirror_mode": "text/x-kotlin",
   "nbconvert_exporter": ""
  }
 },
 "nbformat": 4,
 "nbformat_minor": 0
}
