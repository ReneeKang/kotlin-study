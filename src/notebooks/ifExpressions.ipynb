{
 "cells": [
  {
   "cell_type": "code",
   "execution_count": 1,
   "metadata": {
    "collapsed": true
   },
   "outputs": [
    {
     "name": "stdout",
     "output_type": "stream",
     "text": [
      "it's true!\n",
      "10 < 11\n",
      "ten is less than eleven\n"
     ]
    }
   ],
   "source": [
    "fun main() {\n",
    "    if (1 > 0)\n",
    "        println(\"it's true!\")\n",
    "    if (10 < 11) {\n",
    "        println(\"10 < 11\")\n",
    "        println(\"ten is less than eleven\")\n",
    "    }\n",
    "}\n",
    "main()"
   ]
  },
  {
   "cell_type": "code",
   "execution_count": 2,
   "outputs": [
    {
     "name": "stdout",
     "output_type": "stream",
     "text": [
      "it's negative or zero\n"
     ]
    }
   ],
   "source": [
    "fun main() {\n",
    "    val n: Int = -11\n",
    "    if (n > 0)\n",
    "        println(\"it's positive\")\n",
    "    else\n",
    "        println(\"it's negative or zero\")\n",
    "}\n",
    "main()"
   ],
   "metadata": {
    "collapsed": false
   }
  },
  {
   "cell_type": "code",
   "execution_count": 3,
   "outputs": [
    {
     "name": "stdout",
     "output_type": "stream",
     "text": [
      "it's negative\n"
     ]
    }
   ],
   "source": [
    "fun main() {\n",
    "    val n: Int = -11\n",
    "    if (n > 0)\n",
    "        println(\"it's positive\")\n",
    "    else if (n == 0)\n",
    "        println(\"it's zero\")\n",
    "    else\n",
    "        println(\"it's negative\")\n",
    "}\n",
    "main()"
   ],
   "metadata": {
    "collapsed": false
   }
  },
  {
   "cell_type": "code",
   "execution_count": 6,
   "outputs": [
    {
     "name": "stdout",
     "output_type": "stream",
     "text": [
      "!y is true\n"
     ]
    }
   ],
   "source": [
    "fun main() {\n",
    "    val y: Boolean = false\n",
    "    if (!y)\n",
    "        println(\"!y is true\")\n",
    "}\n",
    "main()"
   ],
   "metadata": {
    "collapsed": false
   }
  },
  {
   "cell_type": "code",
   "execution_count": 8,
   "outputs": [
    {
     "name": "stdout",
     "output_type": "stream",
     "text": [
      "42\n"
     ]
    }
   ],
   "source": [
    "fun main() {\n",
    "    val num = 10\n",
    "    val result = if (num > 100) 4 else 42\n",
    "    println(result)\n",
    "}\n",
    "main()"
   ],
   "metadata": {
    "collapsed": false
   }
  },
  {
   "cell_type": "code",
   "execution_count": 2,
   "outputs": [
    {
     "name": "stdout",
     "output_type": "stream",
     "text": [
      "It's true!\r\n",
      "It's false\r\n"
     ]
    }
   ],
   "source": [
    "fun trueOrFalse(exp: Boolean): String {\n",
    "    if (exp)\n",
    "        return \"It's true!\"\n",
    "    return \"It's false\"\n",
    "}\n",
    "\n",
    "fun main() {\n",
    "    val b = 1\n",
    "    println(trueOrFalse(b < 3))\n",
    "    println(trueOrFalse(b >= 3))\n",
    "}\n",
    "main()"
   ],
   "metadata": {
    "collapsed": false
   }
  },
  {
   "cell_type": "code",
   "execution_count": 4,
   "outputs": [
    {
     "data": {
      "text/plain": "\nreturn 대신, else 키워드와 함께 if 식을 사용해 결과를 만들어낼 수도 있다.\ntrueOrFalse()에서는 두가지 식을 썼지만, oneOrTheOther()에서는 하나만 썼다.\n"
     },
     "execution_count": 4,
     "metadata": {},
     "output_type": "execute_result"
    }
   ],
   "source": [
    "\"\"\"\n",
    "return 대신, else 키워드와 함께 if 식을 사용해 결과를 만들어낼 수도 있다.\n",
    "trueOrFalse()에서는 두가지 식을 썼지만, oneOrTheOther()에서는 하나만 썼다.\n",
    "이 식의 결과가 함수가 되므로, 이 if 식이 함수의 본문이 된다.\n",
    "\"\"\""
   ],
   "metadata": {
    "collapsed": false
   }
  },
  {
   "cell_type": "code",
   "execution_count": 5,
   "outputs": [
    {
     "name": "stdout",
     "output_type": "stream",
     "text": [
      "True!\r\n",
      "False\r\n"
     ]
    }
   ],
   "source": [
    "fun oneOrTheOther(exp: Boolean): String =\n",
    "    if (exp)\n",
    "        \"True!\"\n",
    "    else\n",
    "        \"False\"\n",
    "\n",
    "fun main() {\n",
    "    val x = 1\n",
    "    println(oneOrTheOther(x == 1))\n",
    "    println(oneOrTheOther(x == 2))\n",
    "}\n",
    "main()"
   ],
   "metadata": {
    "collapsed": false
   }
  },
  {
   "cell_type": "code",
   "execution_count": null,
   "outputs": [],
   "source": [],
   "metadata": {
    "collapsed": false
   }
  }
 ],
 "metadata": {
  "kernelspec": {
   "display_name": "Kotlin",
   "language": "kotlin",
   "name": "kotlin"
  },
  "language_info": {
   "name": "kotlin",
   "version": "1.8.0-dev-3517",
   "mimetype": "text/x-kotlin",
   "file_extension": ".kt",
   "pygments_lexer": "kotlin",
   "codemirror_mode": "text/x-kotlin",
   "nbconvert_exporter": ""
  }
 },
 "nbformat": 4,
 "nbformat_minor": 0
}
